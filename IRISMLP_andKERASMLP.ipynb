{
  "nbformat": 4,
  "nbformat_minor": 0,
  "metadata": {
    "colab": {
      "name": "IRISMLP andKERASMLP.ipynb",
      "provenance": [],
      "collapsed_sections": []
    },
    "kernelspec": {
      "name": "python3",
      "display_name": "Python 3"
    }
  },
  "cells": [
    {
      "cell_type": "code",
      "metadata": {
        "id": "UQi50ZA1slbi",
        "colab_type": "code",
        "colab": {}
      },
      "source": [
        "import numpy as np\n",
        "import pandas as pd\n",
        "import matplotlib.pyplot as plt"
      ],
      "execution_count": 0,
      "outputs": []
    },
    {
      "cell_type": "code",
      "metadata": {
        "id": "hlQhp5BVG3JP",
        "colab_type": "code",
        "colab": {}
      },
      "source": [
        "\n",
        "from sklearn.datasets import load_iris\n",
        "\n",
        "from sklearn.neural_network import MLPClassifier\n",
        "\n",
        "X, y = load_iris(return_X_y=True)"
      ],
      "execution_count": 0,
      "outputs": []
    },
    {
      "cell_type": "code",
      "metadata": {
        "id": "LLhbZpO0G3OJ",
        "colab_type": "code",
        "colab": {}
      },
      "source": [
        "#  80% training and 20% testing\n",
        "from sklearn.model_selection import train_test_split\n",
        "\n",
        "X_train, X_test, y_train, y_test = train_test_split(X, y, test_size=0.2,\n",
        "stratify=y, random_state=42)\n",
        "\n",
        "mlpClassifier = MLPClassifier(solver='lbfgs', alpha=1e-5,\n",
        "hidden_layer_sizes=(10, 3), random_state=1)"
      ],
      "execution_count": 0,
      "outputs": []
    },
    {
      "cell_type": "code",
      "metadata": {
        "id": "vd_Hff57G3SM",
        "colab_type": "code",
        "outputId": "f03bba3a-655b-4887-f345-28ff789ad148",
        "colab": {
          "base_uri": "https://localhost:8080/",
          "height": 153
        }
      },
      "source": [
        "mlpClassifier.fit(X_train, y_train)"
      ],
      "execution_count": 4,
      "outputs": [
        {
          "output_type": "execute_result",
          "data": {
            "text/plain": [
              "MLPClassifier(activation='relu', alpha=1e-05, batch_size='auto', beta_1=0.9,\n",
              "              beta_2=0.999, early_stopping=False, epsilon=1e-08,\n",
              "              hidden_layer_sizes=(10, 3), learning_rate='constant',\n",
              "              learning_rate_init=0.001, max_fun=15000, max_iter=200,\n",
              "              momentum=0.9, n_iter_no_change=10, nesterovs_momentum=True,\n",
              "              power_t=0.5, random_state=1, shuffle=True, solver='lbfgs',\n",
              "              tol=0.0001, validation_fraction=0.1, verbose=False,\n",
              "              warm_start=False)"
            ]
          },
          "metadata": {
            "tags": []
          },
          "execution_count": 4
        }
      ]
    },
    {
      "cell_type": "code",
      "metadata": {
        "id": "nANxe6DaG3M5",
        "colab_type": "code",
        "outputId": "7b4f5aa1-cc44-4cff-d891-dfa48a72d7cb",
        "colab": {
          "base_uri": "https://localhost:8080/",
          "height": 34
        }
      },
      "source": [
        "score = mlpClassifier.score(X_test, y_test)\n",
        "\n",
        "print(score)"
      ],
      "execution_count": 5,
      "outputs": [
        {
          "output_type": "stream",
          "text": [
            "1.0\n"
          ],
          "name": "stdout"
        }
      ]
    },
    {
      "cell_type": "markdown",
      "metadata": {
        "id": "QJ1syvI01RYw",
        "colab_type": "text"
      },
      "source": [
        "# Keras MLP for multi-class problem - Iris Dataset\n",
        "# Use the Iris dataset for multi-class classification. Train an MLP model using Keras."
      ]
    },
    {
      "cell_type": "code",
      "metadata": {
        "id": "jLFyiYWPszLp",
        "colab_type": "code",
        "colab": {}
      },
      "source": [
        "from sklearn.datasets import load_iris"
      ],
      "execution_count": 0,
      "outputs": []
    },
    {
      "cell_type": "code",
      "metadata": {
        "id": "36TXmp9es7_e",
        "colab_type": "code",
        "colab": {
          "base_uri": "https://localhost:8080/",
          "height": 63
        },
        "outputId": "77bf5ce9-a429-42fb-c78a-e569a7677a8d"
      },
      "source": [
        "import tensorflow as tf\n",
        "from tensorflow import keras"
      ],
      "execution_count": 7,
      "outputs": [
        {
          "output_type": "display_data",
          "data": {
            "text/html": [
              "<p style=\"color: red;\">\n",
              "The default version of TensorFlow in Colab will soon switch to TensorFlow 2.x.<br>\n",
              "We recommend you <a href=\"https://www.tensorflow.org/guide/migrate\" target=\"_blank\">upgrade</a> now \n",
              "or ensure your notebook will continue to use TensorFlow 1.x via the <code>%tensorflow_version 1.x</code> magic:\n",
              "<a href=\"https://colab.research.google.com/notebooks/tensorflow_version.ipynb\" target=\"_blank\">more info</a>.</p>\n"
            ],
            "text/plain": [
              "<IPython.core.display.HTML object>"
            ]
          },
          "metadata": {
            "tags": []
          }
        }
      ]
    },
    {
      "cell_type": "code",
      "metadata": {
        "id": "X83IXGlltIK3",
        "colab_type": "code",
        "colab": {}
      },
      "source": [
        "tf.set_random_seed(42)\n",
        "np.random.seed(42)"
      ],
      "execution_count": 0,
      "outputs": []
    },
    {
      "cell_type": "code",
      "metadata": {
        "id": "U_I_fyT5tdix",
        "colab_type": "code",
        "colab": {}
      },
      "source": [
        "irisdata=load_iris()\n",
        "X=irisdata.data\n",
        "y=irisdata.target"
      ],
      "execution_count": 0,
      "outputs": []
    },
    {
      "cell_type": "code",
      "metadata": {
        "id": "PKDPcsFBtxl-",
        "colab_type": "code",
        "colab": {}
      },
      "source": [
        "from sklearn.model_selection import train_test_split\n",
        "X_train,X_test,y_train,y_test=train_test_split(X,y,test_size=0.2,stratify=y,random_state=42)"
      ],
      "execution_count": 0,
      "outputs": []
    },
    {
      "cell_type": "code",
      "metadata": {
        "id": "Gji3Rub-uWTL",
        "colab_type": "code",
        "colab": {}
      },
      "source": [
        "from sklearn.preprocessing import StandardScaler\n",
        "sc=StandardScaler()"
      ],
      "execution_count": 0,
      "outputs": []
    },
    {
      "cell_type": "code",
      "metadata": {
        "id": "fBqVijsOu_A5",
        "colab_type": "code",
        "outputId": "db982a5c-29a6-4bc4-e5ab-a37d328f9aac",
        "colab": {
          "base_uri": "https://localhost:8080/",
          "height": 34
        }
      },
      "source": [
        "sc.fit(X_train)"
      ],
      "execution_count": 12,
      "outputs": [
        {
          "output_type": "execute_result",
          "data": {
            "text/plain": [
              "StandardScaler(copy=True, with_mean=True, with_std=True)"
            ]
          },
          "metadata": {
            "tags": []
          },
          "execution_count": 12
        }
      ]
    },
    {
      "cell_type": "code",
      "metadata": {
        "id": "rsOwaiK20jtI",
        "colab_type": "code",
        "colab": {}
      },
      "source": [
        "X_train_std = sc.transform(X_train)\n",
        "X_test_std = sc.transform(X_test)"
      ],
      "execution_count": 0,
      "outputs": []
    },
    {
      "cell_type": "code",
      "metadata": {
        "id": "cip21Zq40p2s",
        "colab_type": "code",
        "colab": {
          "base_uri": "https://localhost:8080/",
          "height": 88
        },
        "outputId": "1125536e-4521-41b7-f447-2fdcfe1cc28a"
      },
      "source": [
        "model_MLP = keras.models.Sequential()\n",
        "\n",
        "model_MLP.add(keras.layers.Dense(units=15, activation='relu',input_shape= X_train.shape[1:]))\n",
        "\n",
        "model_MLP.add(keras.layers.Dense(units=3, activation='softmax'))"
      ],
      "execution_count": 14,
      "outputs": [
        {
          "output_type": "stream",
          "text": [
            "WARNING:tensorflow:From /usr/local/lib/python3.6/dist-packages/tensorflow_core/python/ops/resource_variable_ops.py:1630: calling BaseResourceVariable.__init__ (from tensorflow.python.ops.resource_variable_ops) with constraint is deprecated and will be removed in a future version.\n",
            "Instructions for updating:\n",
            "If using Keras pass *_constraint arguments to layers.\n"
          ],
          "name": "stdout"
        }
      ]
    },
    {
      "cell_type": "code",
      "metadata": {
        "id": "9Kvtd60P02cb",
        "colab_type": "code",
        "colab": {}
      },
      "source": [
        "model_MLP.compile(loss='sparse_categorical_crossentropy',\n",
        "optimizer='adam', metrics=['accuracy'])"
      ],
      "execution_count": 0,
      "outputs": []
    },
    {
      "cell_type": "code",
      "metadata": {
        "id": "OLY1bvl30_Iv",
        "colab_type": "code",
        "outputId": "bb0fc558-95b5-4ef1-943e-1139965dfaaf",
        "colab": {
          "base_uri": "https://localhost:8080/",
          "height": 1000
        }
      },
      "source": [
        "model_MLP.fit(x=X_train_std, y=y_train, validation_split=0.1,\n",
        "epochs=50, batch_size=16)"
      ],
      "execution_count": 16,
      "outputs": [
        {
          "output_type": "stream",
          "text": [
            "Train on 108 samples, validate on 12 samples\n",
            "Epoch 1/50\n",
            "108/108 [==============================] - 0s 2ms/sample - loss: 1.2136 - acc: 0.2870 - val_loss: 1.2068 - val_acc: 0.2500\n",
            "Epoch 2/50\n",
            "108/108 [==============================] - 0s 121us/sample - loss: 1.1591 - acc: 0.3704 - val_loss: 1.1464 - val_acc: 0.3333\n",
            "Epoch 3/50\n",
            "108/108 [==============================] - 0s 121us/sample - loss: 1.1060 - acc: 0.4259 - val_loss: 1.0904 - val_acc: 0.5000\n",
            "Epoch 4/50\n",
            "108/108 [==============================] - 0s 132us/sample - loss: 1.0571 - acc: 0.5093 - val_loss: 1.0356 - val_acc: 0.5833\n",
            "Epoch 5/50\n",
            "108/108 [==============================] - 0s 140us/sample - loss: 1.0095 - acc: 0.5463 - val_loss: 0.9840 - val_acc: 0.5833\n",
            "Epoch 6/50\n",
            "108/108 [==============================] - 0s 188us/sample - loss: 0.9667 - acc: 0.5556 - val_loss: 0.9352 - val_acc: 0.5833\n",
            "Epoch 7/50\n",
            "108/108 [==============================] - 0s 144us/sample - loss: 0.9246 - acc: 0.5648 - val_loss: 0.8918 - val_acc: 0.5833\n",
            "Epoch 8/50\n",
            "108/108 [==============================] - 0s 150us/sample - loss: 0.8855 - acc: 0.5926 - val_loss: 0.8520 - val_acc: 0.5833\n",
            "Epoch 9/50\n",
            "108/108 [==============================] - 0s 130us/sample - loss: 0.8495 - acc: 0.6204 - val_loss: 0.8132 - val_acc: 0.7500\n",
            "Epoch 10/50\n",
            "108/108 [==============================] - 0s 134us/sample - loss: 0.8158 - acc: 0.6389 - val_loss: 0.7776 - val_acc: 0.7500\n",
            "Epoch 11/50\n",
            "108/108 [==============================] - 0s 157us/sample - loss: 0.7823 - acc: 0.6759 - val_loss: 0.7470 - val_acc: 0.7500\n",
            "Epoch 12/50\n",
            "108/108 [==============================] - 0s 179us/sample - loss: 0.7514 - acc: 0.7222 - val_loss: 0.7175 - val_acc: 0.7500\n",
            "Epoch 13/50\n",
            "108/108 [==============================] - 0s 145us/sample - loss: 0.7215 - acc: 0.7593 - val_loss: 0.6926 - val_acc: 0.7500\n",
            "Epoch 14/50\n",
            "108/108 [==============================] - 0s 145us/sample - loss: 0.6936 - acc: 0.7778 - val_loss: 0.6679 - val_acc: 0.7500\n",
            "Epoch 15/50\n",
            "108/108 [==============================] - 0s 136us/sample - loss: 0.6663 - acc: 0.7870 - val_loss: 0.6460 - val_acc: 0.7500\n",
            "Epoch 16/50\n",
            "108/108 [==============================] - 0s 209us/sample - loss: 0.6414 - acc: 0.8148 - val_loss: 0.6264 - val_acc: 0.7500\n",
            "Epoch 17/50\n",
            "108/108 [==============================] - 0s 156us/sample - loss: 0.6164 - acc: 0.8241 - val_loss: 0.6086 - val_acc: 0.7500\n",
            "Epoch 18/50\n",
            "108/108 [==============================] - 0s 179us/sample - loss: 0.5936 - acc: 0.8519 - val_loss: 0.5930 - val_acc: 0.7500\n",
            "Epoch 19/50\n",
            "108/108 [==============================] - 0s 150us/sample - loss: 0.5716 - acc: 0.8704 - val_loss: 0.5786 - val_acc: 0.7500\n",
            "Epoch 20/50\n",
            "108/108 [==============================] - 0s 147us/sample - loss: 0.5508 - acc: 0.8796 - val_loss: 0.5649 - val_acc: 0.7500\n",
            "Epoch 21/50\n",
            "108/108 [==============================] - 0s 132us/sample - loss: 0.5321 - acc: 0.8796 - val_loss: 0.5528 - val_acc: 0.7500\n",
            "Epoch 22/50\n",
            "108/108 [==============================] - 0s 139us/sample - loss: 0.5136 - acc: 0.8796 - val_loss: 0.5414 - val_acc: 0.7500\n",
            "Epoch 23/50\n",
            "108/108 [==============================] - 0s 142us/sample - loss: 0.4971 - acc: 0.8889 - val_loss: 0.5301 - val_acc: 0.7500\n",
            "Epoch 24/50\n",
            "108/108 [==============================] - 0s 141us/sample - loss: 0.4812 - acc: 0.8889 - val_loss: 0.5200 - val_acc: 0.7500\n",
            "Epoch 25/50\n",
            "108/108 [==============================] - 0s 150us/sample - loss: 0.4679 - acc: 0.8889 - val_loss: 0.5132 - val_acc: 0.7500\n",
            "Epoch 26/50\n",
            "108/108 [==============================] - 0s 127us/sample - loss: 0.4540 - acc: 0.8889 - val_loss: 0.5037 - val_acc: 0.7500\n",
            "Epoch 27/50\n",
            "108/108 [==============================] - 0s 192us/sample - loss: 0.4412 - acc: 0.8981 - val_loss: 0.4942 - val_acc: 0.7500\n",
            "Epoch 28/50\n",
            "108/108 [==============================] - 0s 151us/sample - loss: 0.4303 - acc: 0.8981 - val_loss: 0.4865 - val_acc: 0.7500\n",
            "Epoch 29/50\n",
            "108/108 [==============================] - 0s 114us/sample - loss: 0.4192 - acc: 0.9074 - val_loss: 0.4786 - val_acc: 0.7500\n",
            "Epoch 30/50\n",
            "108/108 [==============================] - 0s 136us/sample - loss: 0.4090 - acc: 0.9074 - val_loss: 0.4700 - val_acc: 0.7500\n",
            "Epoch 31/50\n",
            "108/108 [==============================] - 0s 128us/sample - loss: 0.3995 - acc: 0.9074 - val_loss: 0.4615 - val_acc: 0.7500\n",
            "Epoch 32/50\n",
            "108/108 [==============================] - 0s 136us/sample - loss: 0.3903 - acc: 0.9074 - val_loss: 0.4533 - val_acc: 0.7500\n",
            "Epoch 33/50\n",
            "108/108 [==============================] - 0s 142us/sample - loss: 0.3820 - acc: 0.9074 - val_loss: 0.4477 - val_acc: 0.7500\n",
            "Epoch 34/50\n",
            "108/108 [==============================] - 0s 170us/sample - loss: 0.3738 - acc: 0.9167 - val_loss: 0.4426 - val_acc: 0.7500\n",
            "Epoch 35/50\n",
            "108/108 [==============================] - 0s 129us/sample - loss: 0.3659 - acc: 0.9074 - val_loss: 0.4355 - val_acc: 0.7500\n",
            "Epoch 36/50\n",
            "108/108 [==============================] - 0s 119us/sample - loss: 0.3585 - acc: 0.9074 - val_loss: 0.4290 - val_acc: 0.7500\n",
            "Epoch 37/50\n",
            "108/108 [==============================] - 0s 129us/sample - loss: 0.3517 - acc: 0.9074 - val_loss: 0.4218 - val_acc: 0.7500\n",
            "Epoch 38/50\n",
            "108/108 [==============================] - 0s 125us/sample - loss: 0.3451 - acc: 0.9074 - val_loss: 0.4153 - val_acc: 0.7500\n",
            "Epoch 39/50\n",
            "108/108 [==============================] - 0s 138us/sample - loss: 0.3387 - acc: 0.9074 - val_loss: 0.4089 - val_acc: 0.7500\n",
            "Epoch 40/50\n",
            "108/108 [==============================] - 0s 119us/sample - loss: 0.3328 - acc: 0.9074 - val_loss: 0.4033 - val_acc: 0.7500\n",
            "Epoch 41/50\n",
            "108/108 [==============================] - 0s 131us/sample - loss: 0.3272 - acc: 0.9074 - val_loss: 0.3963 - val_acc: 0.7500\n",
            "Epoch 42/50\n",
            "108/108 [==============================] - 0s 171us/sample - loss: 0.3217 - acc: 0.9074 - val_loss: 0.3912 - val_acc: 0.7500\n",
            "Epoch 43/50\n",
            "108/108 [==============================] - 0s 150us/sample - loss: 0.3163 - acc: 0.9074 - val_loss: 0.3859 - val_acc: 0.7500\n",
            "Epoch 44/50\n",
            "108/108 [==============================] - 0s 164us/sample - loss: 0.3112 - acc: 0.9074 - val_loss: 0.3802 - val_acc: 0.7500\n",
            "Epoch 45/50\n",
            "108/108 [==============================] - 0s 176us/sample - loss: 0.3063 - acc: 0.9074 - val_loss: 0.3747 - val_acc: 0.7500\n",
            "Epoch 46/50\n",
            "108/108 [==============================] - 0s 140us/sample - loss: 0.3018 - acc: 0.9074 - val_loss: 0.3683 - val_acc: 0.7500\n",
            "Epoch 47/50\n",
            "108/108 [==============================] - 0s 141us/sample - loss: 0.2973 - acc: 0.9074 - val_loss: 0.3629 - val_acc: 0.7500\n",
            "Epoch 48/50\n",
            "108/108 [==============================] - 0s 146us/sample - loss: 0.2929 - acc: 0.9074 - val_loss: 0.3568 - val_acc: 0.7500\n",
            "Epoch 49/50\n",
            "108/108 [==============================] - 0s 142us/sample - loss: 0.2885 - acc: 0.9167 - val_loss: 0.3524 - val_acc: 0.7500\n",
            "Epoch 50/50\n",
            "108/108 [==============================] - 0s 130us/sample - loss: 0.2845 - acc: 0.9167 - val_loss: 0.3473 - val_acc: 0.7500\n"
          ],
          "name": "stdout"
        },
        {
          "output_type": "execute_result",
          "data": {
            "text/plain": [
              "<tensorflow.python.keras.callbacks.History at 0x7fa2d39d0be0>"
            ]
          },
          "metadata": {
            "tags": []
          },
          "execution_count": 16
        }
      ]
    },
    {
      "cell_type": "code",
      "metadata": {
        "id": "DdjykmKf1D9f",
        "colab_type": "code",
        "outputId": "4db6a31b-63f3-4886-b6f9-0e93101e7025",
        "colab": {
          "base_uri": "https://localhost:8080/",
          "height": 34
        }
      },
      "source": [
        "test_loss, test_accuracy = model_MLP.evaluate(x=X_test_std, y=y_test)"
      ],
      "execution_count": 17,
      "outputs": [
        {
          "output_type": "stream",
          "text": [
            "\r30/30 [==============================] - 0s 52us/sample - loss: 0.3645 - acc: 0.8333\n"
          ],
          "name": "stdout"
        }
      ]
    },
    {
      "cell_type": "code",
      "metadata": {
        "id": "lggcqOGn1JPc",
        "colab_type": "code",
        "outputId": "9714ba7f-2b9a-49fc-95a8-0a3a0d08f802",
        "colab": {
          "base_uri": "https://localhost:8080/",
          "height": 34
        }
      },
      "source": [
        "print(test_loss, test_accuracy)"
      ],
      "execution_count": 18,
      "outputs": [
        {
          "output_type": "stream",
          "text": [
            "0.3645183742046356 0.8333333\n"
          ],
          "name": "stdout"
        }
      ]
    }
  ]
}