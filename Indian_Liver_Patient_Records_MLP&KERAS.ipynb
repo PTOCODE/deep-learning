{
  "nbformat": 4,
  "nbformat_minor": 0,
  "metadata": {
    "colab": {
      "name": "Indian_Liver_Patient_Records_MLP&KERAS.ipynb",
      "provenance": [],
      "collapsed_sections": []
    },
    "kernelspec": {
      "name": "python3",
      "display_name": "Python 3"
    }
  },
  "cells": [
    {
      "cell_type": "code",
      "metadata": {
        "id": "LT7nFn7jMXW5",
        "colab_type": "code",
        "colab": {}
      },
      "source": [
        "import numpy as np\n",
        "import matplotlib.pyplot as plt\n",
        "import pandas as pd"
      ],
      "execution_count": 0,
      "outputs": []
    },
    {
      "cell_type": "code",
      "metadata": {
        "id": "3fdYjWjmMz2d",
        "colab_type": "code",
        "colab": {}
      },
      "source": [
        "from sklearn.neural_network import MLPClassifier"
      ],
      "execution_count": 0,
      "outputs": []
    },
    {
      "cell_type": "markdown",
      "metadata": {
        "id": "oxAcLnxn3pgs",
        "colab_type": "text"
      },
      "source": [
        "MLP on Indian Liver Patient Records"
      ]
    },
    {
      "cell_type": "code",
      "metadata": {
        "id": "P0D6K18vNLuo",
        "colab_type": "code",
        "outputId": "cc3a591c-1308-4d20-ff6f-0b4925166a3c",
        "colab": {
          "base_uri": "https://localhost:8080/",
          "height": 122
        }
      },
      "source": [
        "from google.colab import drive\n",
        "drive.mount('/content/drive')"
      ],
      "execution_count": 0,
      "outputs": [
        {
          "output_type": "stream",
          "text": [
            "Go to this URL in a browser: https://accounts.google.com/o/oauth2/auth?client_id=947318989803-6bn6qk8qdgf4n4g3pfee6491hc0brc4i.apps.googleusercontent.com&redirect_uri=urn%3aietf%3awg%3aoauth%3a2.0%3aoob&response_type=code&scope=email%20https%3a%2f%2fwww.googleapis.com%2fauth%2fdocs.test%20https%3a%2f%2fwww.googleapis.com%2fauth%2fdrive%20https%3a%2f%2fwww.googleapis.com%2fauth%2fdrive.photos.readonly%20https%3a%2f%2fwww.googleapis.com%2fauth%2fpeopleapi.readonly\n",
            "\n",
            "Enter your authorization code:\n",
            "··········\n",
            "Mounted at /content/drive\n"
          ],
          "name": "stdout"
        }
      ]
    },
    {
      "cell_type": "code",
      "metadata": {
        "id": "_n5Ncavh2nWy",
        "colab_type": "code",
        "colab": {}
      },
      "source": [
        "dataset=pd.read_csv('/content/drive/My Drive/datasets/indian_liver_patient.csv')"
      ],
      "execution_count": 0,
      "outputs": []
    },
    {
      "cell_type": "code",
      "metadata": {
        "id": "QL0V9FUiNF4d",
        "colab_type": "code",
        "colab": {}
      },
      "source": [
        "from sklearn.neural_network import MLPClassifier"
      ],
      "execution_count": 0,
      "outputs": []
    },
    {
      "cell_type": "code",
      "metadata": {
        "id": "Ta64F8UYN0xp",
        "colab_type": "code",
        "colab": {}
      },
      "source": [
        "X=dataset.iloc[:,:-1].values\n",
        "y=dataset.iloc[:,10].values"
      ],
      "execution_count": 0,
      "outputs": []
    },
    {
      "cell_type": "markdown",
      "metadata": {
        "id": "VCDMiR4IP9O0",
        "colab_type": "text"
      },
      "source": [
        "MISSING VALUES"
      ]
    },
    {
      "cell_type": "code",
      "metadata": {
        "id": "jQCT9b-FOCAt",
        "colab_type": "code",
        "colab": {}
      },
      "source": [
        "from sklearn.impute import SimpleImputer"
      ],
      "execution_count": 0,
      "outputs": []
    },
    {
      "cell_type": "code",
      "metadata": {
        "id": "ewoZcBB5POsD",
        "colab_type": "code",
        "colab": {}
      },
      "source": [
        "imputer=SimpleImputer(missing_values=np.nan,strategy='mean')\n",
        "imputer=imputer.fit(X[:,9:10])\n",
        "X[:,9:10]=imputer.transform(X[:,9:10])\n"
      ],
      "execution_count": 0,
      "outputs": []
    },
    {
      "cell_type": "markdown",
      "metadata": {
        "id": "3NyLUFFTQFam",
        "colab_type": "text"
      },
      "source": [
        "CATEGORICAL VALUES"
      ]
    },
    {
      "cell_type": "code",
      "metadata": {
        "id": "eCyc0Y-VPafq",
        "colab_type": "code",
        "colab": {}
      },
      "source": [
        "from sklearn.preprocessing  import LabelEncoder,OneHotEncoder\n",
        "labelencoder_X=LabelEncoder()\n",
        "X[:,1]=labelencoder_X.fit_transform(X[:,1])"
      ],
      "execution_count": 0,
      "outputs": []
    },
    {
      "cell_type": "code",
      "metadata": {
        "id": "MlgejR0uPk7c",
        "colab_type": "code",
        "colab": {}
      },
      "source": [
        "from sklearn.model_selection import train_test_split\n",
        "# While splitting, make an unbiased splitting\n",
        "X_train, X_test, y_train, y_test = train_test_split(X, y, test_size=0.2, stratify=y,\n",
        "random_state=42)\n",
        "# Create an object (model) for Perceptron.\n"
      ],
      "execution_count": 0,
      "outputs": []
    },
    {
      "cell_type": "markdown",
      "metadata": {
        "id": "KRRypCEOQK1W",
        "colab_type": "text"
      },
      "source": [
        "MLP"
      ]
    },
    {
      "cell_type": "code",
      "metadata": {
        "id": "Hrhyjm5ePqvl",
        "colab_type": "code",
        "colab": {}
      },
      "source": [
        "mlpClassifier = MLPClassifier(solver='lbfgs', alpha=1e-5,\n",
        "hidden_layer_sizes=(25, 10), random_state=1)"
      ],
      "execution_count": 0,
      "outputs": []
    },
    {
      "cell_type": "code",
      "metadata": {
        "id": "FUMGZgdPPyNy",
        "colab_type": "code",
        "outputId": "f1b2e1eb-8350-4dcd-81ff-dcf78e821431",
        "colab": {
          "base_uri": "https://localhost:8080/",
          "height": 34
        }
      },
      "source": [
        "mlpClassifier.fit(X_train, y_train)\n",
        "\n",
        "score = mlpClassifier.score(X_test, y_test)\n",
        "\n",
        "print(score)"
      ],
      "execution_count": 0,
      "outputs": [
        {
          "output_type": "stream",
          "text": [
            "0.7094017094017094\n"
          ],
          "name": "stdout"
        }
      ]
    },
    {
      "cell_type": "markdown",
      "metadata": {
        "id": "QrNEtRVkCrp5",
        "colab_type": "text"
      },
      "source": [
        "**ACCURACY=70%**\n",
        "\n",
        "---\n",
        "\n",
        "\n",
        "\n",
        "---\n",
        "\n",
        "\n",
        "\n",
        "---\n",
        "\n",
        "\n",
        "\n",
        "---\n",
        "\n"
      ]
    },
    {
      "cell_type": "markdown",
      "metadata": {
        "id": "LWc-fFhXyPGd",
        "colab_type": "text"
      },
      "source": [
        "## USING PERCEPTRON"
      ]
    },
    {
      "cell_type": "code",
      "metadata": {
        "id": "s-1TSQL-xb5N",
        "colab_type": "code",
        "colab": {}
      },
      "source": [
        "# Importing both TensorFlow and its high level API - Keras.\n",
        "import tensorflow as tf\n",
        "from tensorflow import keras\n",
        "# Setting the random seeds for repeatability\n",
        "tf.set_random_seed(42)\n",
        "np.random.seed(42)"
      ],
      "execution_count": 0,
      "outputs": []
    },
    {
      "cell_type": "code",
      "metadata": {
        "id": "Wr3H7YV6xgmQ",
        "colab_type": "code",
        "colab": {}
      },
      "source": [
        "# Split the data into 80% training and 20% testing\n",
        "from sklearn.model_selection import train_test_split\n",
        "X_train, X_test, y_train, y_test = train_test_split(X, y, test_size=0.2,\n",
        "random_state=42)\n",
        "# Feature scaling using Standardization\n",
        "from sklearn.preprocessing import StandardScaler\n",
        "sc = StandardScaler()\n",
        "# Training the feature scaling parameters\n",
        "sc.fit(X_train)\n",
        "# Applying transformations to both training and testing set\n",
        "X_train_std = sc.transform(X_train)\n",
        "X_test_std = sc.transform(X_test)"
      ],
      "execution_count": 0,
      "outputs": []
    },
    {
      "cell_type": "code",
      "metadata": {
        "id": "MFjimwStxpTD",
        "colab_type": "code",
        "colab": {}
      },
      "source": [
        "model_perceptron = keras.models.Sequential()\n",
        "model_perceptron.add(keras.layers.Dense(units=1, activation='relu',input_shape= X_train.shape[1:]))\n",
        "model_perceptron.add(keras.layers.Dense(units=1, activation='sigmoid'))\n",
        "model_perceptron.compile(loss='binary_crossentropy', optimizer='adam',metrics=['accuracy'])"
      ],
      "execution_count": 0,
      "outputs": []
    },
    {
      "cell_type": "code",
      "metadata": {
        "id": "phkDnoinxv7O",
        "colab_type": "code",
        "outputId": "1fa5fd90-0c23-4c86-a00f-0f9884dc9a2e",
        "colab": {
          "base_uri": "https://localhost:8080/",
          "height": 1000
        }
      },
      "source": [
        "model_perceptron.fit(x=X_train_std, y=y_train, validation_split=0.1,epochs=50, batch_size=16)\n"
      ],
      "execution_count": 0,
      "outputs": [
        {
          "output_type": "stream",
          "text": [
            "Train on 419 samples, validate on 47 samples\n",
            "Epoch 1/50\n",
            "419/419 [==============================] - 0s 317us/sample - loss: 0.3124 - acc: 0.6969 - val_loss: 0.2895 - val_acc: 0.7021\n",
            "Epoch 2/50\n",
            "419/419 [==============================] - 0s 94us/sample - loss: 0.2566 - acc: 0.7064 - val_loss: 0.2370 - val_acc: 0.7021\n",
            "Epoch 3/50\n",
            "419/419 [==============================] - 0s 84us/sample - loss: 0.1967 - acc: 0.7064 - val_loss: 0.1822 - val_acc: 0.7021\n",
            "Epoch 4/50\n",
            "419/419 [==============================] - 0s 84us/sample - loss: 0.1370 - acc: 0.7064 - val_loss: 0.1108 - val_acc: 0.7021\n",
            "Epoch 5/50\n",
            "419/419 [==============================] - 0s 85us/sample - loss: 0.0748 - acc: 0.7064 - val_loss: 0.0437 - val_acc: 0.7021\n",
            "Epoch 6/50\n",
            "419/419 [==============================] - 0s 85us/sample - loss: 0.0125 - acc: 0.7064 - val_loss: -0.0244 - val_acc: 0.7021\n",
            "Epoch 7/50\n",
            "419/419 [==============================] - 0s 85us/sample - loss: -0.0465 - acc: 0.7064 - val_loss: -0.0958 - val_acc: 0.7021\n",
            "Epoch 8/50\n",
            "419/419 [==============================] - 0s 83us/sample - loss: -0.1093 - acc: 0.7064 - val_loss: -0.1637 - val_acc: 0.7021\n",
            "Epoch 9/50\n",
            "419/419 [==============================] - 0s 83us/sample - loss: -0.1728 - acc: 0.7064 - val_loss: -0.2374 - val_acc: 0.7021\n",
            "Epoch 10/50\n",
            "419/419 [==============================] - 0s 81us/sample - loss: -0.2400 - acc: 0.7064 - val_loss: -0.3086 - val_acc: 0.7021\n",
            "Epoch 11/50\n",
            "419/419 [==============================] - 0s 95us/sample - loss: -0.3062 - acc: 0.7064 - val_loss: -0.3745 - val_acc: 0.7021\n",
            "Epoch 12/50\n",
            "419/419 [==============================] - 0s 86us/sample - loss: -0.3724 - acc: 0.7064 - val_loss: -0.4474 - val_acc: 0.7021\n",
            "Epoch 13/50\n",
            "419/419 [==============================] - 0s 85us/sample - loss: -0.4396 - acc: 0.7064 - val_loss: -0.5225 - val_acc: 0.7021\n",
            "Epoch 14/50\n",
            "419/419 [==============================] - 0s 78us/sample - loss: -0.5109 - acc: 0.7064 - val_loss: -0.5940 - val_acc: 0.7021\n",
            "Epoch 15/50\n",
            "419/419 [==============================] - 0s 77us/sample - loss: -0.5818 - acc: 0.7064 - val_loss: -0.6653 - val_acc: 0.7021\n",
            "Epoch 16/50\n",
            "419/419 [==============================] - 0s 78us/sample - loss: -0.6518 - acc: 0.7064 - val_loss: -0.7432 - val_acc: 0.7021\n",
            "Epoch 17/50\n",
            "419/419 [==============================] - 0s 90us/sample - loss: -0.7274 - acc: 0.7064 - val_loss: -0.8202 - val_acc: 0.7021\n",
            "Epoch 18/50\n",
            "419/419 [==============================] - 0s 82us/sample - loss: -0.8028 - acc: 0.7064 - val_loss: -0.9000 - val_acc: 0.7021\n",
            "Epoch 19/50\n",
            "419/419 [==============================] - 0s 98us/sample - loss: -0.8779 - acc: 0.7064 - val_loss: -0.9759 - val_acc: 0.7021\n",
            "Epoch 20/50\n",
            "419/419 [==============================] - 0s 82us/sample - loss: -0.9500 - acc: 0.7064 - val_loss: -1.0576 - val_acc: 0.7021\n",
            "Epoch 21/50\n",
            "419/419 [==============================] - 0s 84us/sample - loss: -1.0283 - acc: 0.7064 - val_loss: -1.1353 - val_acc: 0.7021\n",
            "Epoch 22/50\n",
            "419/419 [==============================] - 0s 90us/sample - loss: -1.1087 - acc: 0.7064 - val_loss: -1.2232 - val_acc: 0.7021\n",
            "Epoch 23/50\n",
            "419/419 [==============================] - 0s 80us/sample - loss: -1.1918 - acc: 0.7064 - val_loss: -1.3141 - val_acc: 0.7021\n",
            "Epoch 24/50\n",
            "419/419 [==============================] - 0s 85us/sample - loss: -1.2749 - acc: 0.7064 - val_loss: -1.4067 - val_acc: 0.7021\n",
            "Epoch 25/50\n",
            "419/419 [==============================] - 0s 76us/sample - loss: -1.3658 - acc: 0.7064 - val_loss: -1.5011 - val_acc: 0.7021\n",
            "Epoch 26/50\n",
            "419/419 [==============================] - 0s 81us/sample - loss: -1.4545 - acc: 0.7064 - val_loss: -1.5932 - val_acc: 0.7021\n",
            "Epoch 27/50\n",
            "419/419 [==============================] - 0s 79us/sample - loss: -1.5427 - acc: 0.7064 - val_loss: -1.6903 - val_acc: 0.7021\n",
            "Epoch 28/50\n",
            "419/419 [==============================] - 0s 90us/sample - loss: -1.6354 - acc: 0.7064 - val_loss: -1.7913 - val_acc: 0.7021\n",
            "Epoch 29/50\n",
            "419/419 [==============================] - 0s 87us/sample - loss: -1.7272 - acc: 0.7064 - val_loss: -1.8946 - val_acc: 0.7021\n",
            "Epoch 30/50\n",
            "419/419 [==============================] - 0s 84us/sample - loss: -1.8223 - acc: 0.7064 - val_loss: -1.9999 - val_acc: 0.7021\n",
            "Epoch 31/50\n",
            "419/419 [==============================] - 0s 87us/sample - loss: -1.9186 - acc: 0.7064 - val_loss: -2.0993 - val_acc: 0.7021\n",
            "Epoch 32/50\n",
            "419/419 [==============================] - 0s 88us/sample - loss: -2.0177 - acc: 0.7064 - val_loss: -2.2155 - val_acc: 0.7021\n",
            "Epoch 33/50\n",
            "419/419 [==============================] - 0s 79us/sample - loss: -2.1197 - acc: 0.7064 - val_loss: -2.3312 - val_acc: 0.7021\n",
            "Epoch 34/50\n",
            "419/419 [==============================] - 0s 82us/sample - loss: -2.2225 - acc: 0.7064 - val_loss: -2.4432 - val_acc: 0.7021\n",
            "Epoch 35/50\n",
            "419/419 [==============================] - 0s 95us/sample - loss: -2.3241 - acc: 0.7064 - val_loss: -2.5499 - val_acc: 0.7021\n",
            "Epoch 36/50\n",
            "419/419 [==============================] - 0s 104us/sample - loss: -2.4254 - acc: 0.7064 - val_loss: -2.6576 - val_acc: 0.7021\n",
            "Epoch 37/50\n",
            "419/419 [==============================] - 0s 99us/sample - loss: -2.5304 - acc: 0.7064 - val_loss: -2.7820 - val_acc: 0.7021\n",
            "Epoch 38/50\n",
            "419/419 [==============================] - 0s 94us/sample - loss: -2.6403 - acc: 0.7064 - val_loss: -2.8951 - val_acc: 0.7021\n",
            "Epoch 39/50\n",
            "419/419 [==============================] - 0s 97us/sample - loss: -2.7506 - acc: 0.7064 - val_loss: -3.0186 - val_acc: 0.7021\n",
            "Epoch 40/50\n",
            "419/419 [==============================] - 0s 100us/sample - loss: -2.8626 - acc: 0.7064 - val_loss: -3.1409 - val_acc: 0.7021\n",
            "Epoch 41/50\n",
            "419/419 [==============================] - 0s 86us/sample - loss: -2.9741 - acc: 0.7064 - val_loss: -3.2732 - val_acc: 0.7021\n",
            "Epoch 42/50\n",
            "419/419 [==============================] - 0s 87us/sample - loss: -3.0967 - acc: 0.7064 - val_loss: -3.3959 - val_acc: 0.7021\n",
            "Epoch 43/50\n",
            "419/419 [==============================] - 0s 90us/sample - loss: -3.2125 - acc: 0.7064 - val_loss: -3.5239 - val_acc: 0.7021\n",
            "Epoch 44/50\n",
            "419/419 [==============================] - 0s 85us/sample - loss: -3.3387 - acc: 0.7064 - val_loss: -3.6679 - val_acc: 0.7021\n",
            "Epoch 45/50\n",
            "419/419 [==============================] - 0s 84us/sample - loss: -3.4627 - acc: 0.7064 - val_loss: -3.8064 - val_acc: 0.7021\n",
            "Epoch 46/50\n",
            "419/419 [==============================] - 0s 86us/sample - loss: -3.5904 - acc: 0.7064 - val_loss: -3.9437 - val_acc: 0.7021\n",
            "Epoch 47/50\n",
            "419/419 [==============================] - 0s 93us/sample - loss: -3.7136 - acc: 0.7064 - val_loss: -4.0769 - val_acc: 0.7021\n",
            "Epoch 48/50\n",
            "419/419 [==============================] - 0s 94us/sample - loss: -3.8389 - acc: 0.7064 - val_loss: -4.2231 - val_acc: 0.7021\n",
            "Epoch 49/50\n",
            "419/419 [==============================] - 0s 84us/sample - loss: -3.9696 - acc: 0.7064 - val_loss: -4.3562 - val_acc: 0.7021\n",
            "Epoch 50/50\n",
            "419/419 [==============================] - 0s 85us/sample - loss: -4.0961 - acc: 0.7064 - val_loss: -4.4977 - val_acc: 0.7021\n"
          ],
          "name": "stdout"
        },
        {
          "output_type": "execute_result",
          "data": {
            "text/plain": [
              "<tensorflow.python.keras.callbacks.History at 0x7fe93c996208>"
            ]
          },
          "metadata": {
            "tags": []
          },
          "execution_count": 27
        }
      ]
    },
    {
      "cell_type": "code",
      "metadata": {
        "id": "IRUS3yIOyEkA",
        "colab_type": "code",
        "outputId": "b196936d-4605-4501-d2e2-861afd24208e",
        "colab": {
          "base_uri": "https://localhost:8080/",
          "height": 68
        }
      },
      "source": [
        "\n",
        "test_loss, test_accuracy = model_perceptron.evaluate(x=X_test_std, y=y_test)\n",
        "print(test_loss, '\\n',test_accuracy)"
      ],
      "execution_count": 0,
      "outputs": [
        {
          "output_type": "stream",
          "text": [
            "117/117 [==============================] - 0s 81us/sample - loss: -3.8419 - acc: 0.7436\n",
            "-3.841880341880342 \n",
            " 0.74358976\n"
          ],
          "name": "stdout"
        }
      ]
    },
    {
      "cell_type": "markdown",
      "metadata": {
        "id": "s4lC-QdJ73PU",
        "colab_type": "text"
      },
      "source": [
        "**USING KERAS MLP**"
      ]
    },
    {
      "cell_type": "code",
      "metadata": {
        "id": "ICx1xi_l8Ljo",
        "colab_type": "code",
        "colab": {}
      },
      "source": [
        "model_MLP = keras.models.Sequential()\n",
        "# Hidden layer definitions\n",
        "model_MLP.add(keras.layers.Dense(units=10, activation='relu',input_shape= X_train.shape[1:]))\n",
        "model_MLP.add(keras.layers.Dense(units=5, activation='relu',input_shape= X_train.shape[1:]))"
      ],
      "execution_count": 0,
      "outputs": []
    },
    {
      "cell_type": "code",
      "metadata": {
        "id": "_TlErSzuxCH8",
        "colab_type": "code",
        "colab": {}
      },
      "source": [
        "model_MLP.add(keras.layers.Dense(units=1, activation='sigmoid'))\n",
        " "
      ],
      "execution_count": 0,
      "outputs": []
    },
    {
      "cell_type": "code",
      "metadata": {
        "id": "NfJAw7RL-tOE",
        "colab_type": "code",
        "colab": {}
      },
      "source": [
        "model_MLP.compile(loss='binary_crossentropy',\n",
        "optimizer='adam', metrics=['accuracy'])"
      ],
      "execution_count": 0,
      "outputs": []
    },
    {
      "cell_type": "code",
      "metadata": {
        "id": "a6i9MIkf-yzv",
        "colab_type": "code",
        "outputId": "ac7c883a-6ad2-4d0a-a056-8dbb0eee211f",
        "colab": {
          "base_uri": "https://localhost:8080/",
          "height": 1000
        }
      },
      "source": [
        "model_MLP.fit(x=X_train_std, y=y_train, validation_split=0.1,\n",
        "epochs=50, batch_size=25)"
      ],
      "execution_count": 0,
      "outputs": [
        {
          "output_type": "stream",
          "text": [
            "Train on 419 samples, validate on 47 samples\n",
            "Epoch 1/50\n",
            "419/419 [==============================] - 0s 348us/sample - loss: 0.6313 - acc: 0.6802 - val_loss: 0.5801 - val_acc: 0.6809\n",
            "Epoch 2/50\n",
            "419/419 [==============================] - 0s 71us/sample - loss: 0.5845 - acc: 0.7041 - val_loss: 0.5210 - val_acc: 0.7021\n",
            "Epoch 3/50\n",
            "419/419 [==============================] - 0s 97us/sample - loss: 0.5244 - acc: 0.7064 - val_loss: 0.4506 - val_acc: 0.7021\n",
            "Epoch 4/50\n",
            "419/419 [==============================] - 0s 86us/sample - loss: 0.4545 - acc: 0.7064 - val_loss: 0.3615 - val_acc: 0.7021\n",
            "Epoch 5/50\n",
            "419/419 [==============================] - 0s 68us/sample - loss: 0.3683 - acc: 0.7064 - val_loss: 0.2576 - val_acc: 0.7021\n",
            "Epoch 6/50\n",
            "419/419 [==============================] - 0s 84us/sample - loss: 0.2667 - acc: 0.7064 - val_loss: 0.1366 - val_acc: 0.7021\n",
            "Epoch 7/50\n",
            "419/419 [==============================] - 0s 67us/sample - loss: 0.1480 - acc: 0.7064 - val_loss: -0.0047 - val_acc: 0.7021\n",
            "Epoch 8/50\n",
            "419/419 [==============================] - 0s 74us/sample - loss: 0.0098 - acc: 0.7064 - val_loss: -0.1667 - val_acc: 0.7021\n",
            "Epoch 9/50\n",
            "419/419 [==============================] - 0s 69us/sample - loss: -0.1469 - acc: 0.7064 - val_loss: -0.3511 - val_acc: 0.7021\n",
            "Epoch 10/50\n",
            "419/419 [==============================] - 0s 65us/sample - loss: -0.3216 - acc: 0.7064 - val_loss: -0.5552 - val_acc: 0.7021\n",
            "Epoch 11/50\n",
            "419/419 [==============================] - 0s 71us/sample - loss: -0.5122 - acc: 0.7064 - val_loss: -0.7774 - val_acc: 0.7021\n",
            "Epoch 12/50\n",
            "419/419 [==============================] - 0s 75us/sample - loss: -0.7179 - acc: 0.7064 - val_loss: -1.0278 - val_acc: 0.7021\n",
            "Epoch 13/50\n",
            "419/419 [==============================] - 0s 73us/sample - loss: -0.9433 - acc: 0.7064 - val_loss: -1.3018 - val_acc: 0.7021\n",
            "Epoch 14/50\n",
            "419/419 [==============================] - 0s 71us/sample - loss: -1.1969 - acc: 0.7064 - val_loss: -1.6066 - val_acc: 0.7021\n",
            "Epoch 15/50\n",
            "419/419 [==============================] - 0s 64us/sample - loss: -1.4718 - acc: 0.7064 - val_loss: -1.9671 - val_acc: 0.7021\n",
            "Epoch 16/50\n",
            "419/419 [==============================] - 0s 68us/sample - loss: -1.7983 - acc: 0.7064 - val_loss: -2.3621 - val_acc: 0.7021\n",
            "Epoch 17/50\n",
            "419/419 [==============================] - 0s 65us/sample - loss: -2.1603 - acc: 0.7064 - val_loss: -2.8340 - val_acc: 0.7021\n",
            "Epoch 18/50\n",
            "419/419 [==============================] - 0s 74us/sample - loss: -2.5708 - acc: 0.7064 - val_loss: -3.3826 - val_acc: 0.7021\n",
            "Epoch 19/50\n",
            "419/419 [==============================] - 0s 66us/sample - loss: -3.0734 - acc: 0.7064 - val_loss: -3.9866 - val_acc: 0.7021\n",
            "Epoch 20/50\n",
            "419/419 [==============================] - 0s 74us/sample - loss: -3.6407 - acc: 0.7064 - val_loss: -4.6807 - val_acc: 0.7021\n",
            "Epoch 21/50\n",
            "419/419 [==============================] - 0s 65us/sample - loss: -4.2694 - acc: 0.7064 - val_loss: -5.5060 - val_acc: 0.7021\n",
            "Epoch 22/50\n",
            "419/419 [==============================] - 0s 73us/sample - loss: -4.9987 - acc: 0.7064 - val_loss: -6.4449 - val_acc: 0.7021\n",
            "Epoch 23/50\n",
            "419/419 [==============================] - 0s 73us/sample - loss: -5.8245 - acc: 0.7064 - val_loss: -7.5033 - val_acc: 0.7021\n",
            "Epoch 24/50\n",
            "419/419 [==============================] - 0s 68us/sample - loss: -6.7881 - acc: 0.7064 - val_loss: -8.6417 - val_acc: 0.7021\n",
            "Epoch 25/50\n",
            "419/419 [==============================] - 0s 77us/sample - loss: -7.8109 - acc: 0.7064 - val_loss: -9.9758 - val_acc: 0.7021\n",
            "Epoch 26/50\n",
            "419/419 [==============================] - 0s 67us/sample - loss: -8.9398 - acc: 0.7064 - val_loss: -11.5121 - val_acc: 0.7021\n",
            "Epoch 27/50\n",
            "419/419 [==============================] - 0s 79us/sample - loss: -10.2973 - acc: 0.7064 - val_loss: -13.0688 - val_acc: 0.7021\n",
            "Epoch 28/50\n",
            "419/419 [==============================] - 0s 75us/sample - loss: -11.7436 - acc: 0.7064 - val_loss: -14.7756 - val_acc: 0.7021\n",
            "Epoch 29/50\n",
            "419/419 [==============================] - 0s 69us/sample - loss: -13.2792 - acc: 0.7064 - val_loss: -16.7676 - val_acc: 0.7021\n",
            "Epoch 30/50\n",
            "419/419 [==============================] - 0s 70us/sample - loss: -14.9734 - acc: 0.7064 - val_loss: -18.9554 - val_acc: 0.7021\n",
            "Epoch 31/50\n",
            "419/419 [==============================] - 0s 66us/sample - loss: -16.9198 - acc: 0.7064 - val_loss: -21.2357 - val_acc: 0.7021\n",
            "Epoch 32/50\n",
            "419/419 [==============================] - 0s 75us/sample - loss: -18.9810 - acc: 0.7064 - val_loss: -23.6895 - val_acc: 0.7021\n",
            "Epoch 33/50\n",
            "419/419 [==============================] - 0s 73us/sample - loss: -21.1904 - acc: 0.7064 - val_loss: -26.4191 - val_acc: 0.7021\n",
            "Epoch 34/50\n",
            "419/419 [==============================] - 0s 71us/sample - loss: -23.5961 - acc: 0.7064 - val_loss: -29.3072 - val_acc: 0.7021\n",
            "Epoch 35/50\n",
            "419/419 [==============================] - 0s 72us/sample - loss: -26.1443 - acc: 0.7064 - val_loss: -32.4467 - val_acc: 0.7021\n",
            "Epoch 36/50\n",
            "419/419 [==============================] - 0s 70us/sample - loss: -28.9272 - acc: 0.7064 - val_loss: -35.7516 - val_acc: 0.7021\n",
            "Epoch 37/50\n",
            "419/419 [==============================] - 0s 72us/sample - loss: -31.8182 - acc: 0.7064 - val_loss: -39.3463 - val_acc: 0.7021\n",
            "Epoch 38/50\n",
            "419/419 [==============================] - 0s 72us/sample - loss: -35.0065 - acc: 0.7064 - val_loss: -43.0952 - val_acc: 0.7021\n",
            "Epoch 39/50\n",
            "419/419 [==============================] - 0s 73us/sample - loss: -38.3026 - acc: 0.7064 - val_loss: -47.0457 - val_acc: 0.7021\n",
            "Epoch 40/50\n",
            "419/419 [==============================] - 0s 77us/sample - loss: -41.7772 - acc: 0.7064 - val_loss: -51.3404 - val_acc: 0.7021\n",
            "Epoch 41/50\n",
            "419/419 [==============================] - 0s 72us/sample - loss: -45.4843 - acc: 0.7064 - val_loss: -55.8574 - val_acc: 0.7021\n",
            "Epoch 42/50\n",
            "419/419 [==============================] - 0s 76us/sample - loss: -49.5008 - acc: 0.7064 - val_loss: -60.4378 - val_acc: 0.7021\n",
            "Epoch 43/50\n",
            "419/419 [==============================] - 0s 71us/sample - loss: -53.5021 - acc: 0.7064 - val_loss: -65.5042 - val_acc: 0.7021\n",
            "Epoch 44/50\n",
            "419/419 [==============================] - 0s 80us/sample - loss: -57.8855 - acc: 0.7064 - val_loss: -70.5951 - val_acc: 0.7021\n",
            "Epoch 45/50\n",
            "419/419 [==============================] - 0s 73us/sample - loss: -62.4256 - acc: 0.7064 - val_loss: -75.8765 - val_acc: 0.7021\n",
            "Epoch 46/50\n",
            "419/419 [==============================] - 0s 68us/sample - loss: -67.0288 - acc: 0.7064 - val_loss: -81.6536 - val_acc: 0.7021\n",
            "Epoch 47/50\n",
            "419/419 [==============================] - 0s 71us/sample - loss: -72.0653 - acc: 0.7064 - val_loss: -87.4162 - val_acc: 0.7021\n",
            "Epoch 48/50\n",
            "419/419 [==============================] - 0s 68us/sample - loss: -77.1432 - acc: 0.7064 - val_loss: -93.5056 - val_acc: 0.7021\n",
            "Epoch 49/50\n",
            "419/419 [==============================] - 0s 74us/sample - loss: -82.5065 - acc: 0.7064 - val_loss: -99.8510 - val_acc: 0.7021\n",
            "Epoch 50/50\n",
            "419/419 [==============================] - 0s 73us/sample - loss: -88.1715 - acc: 0.7064 - val_loss: -106.3667 - val_acc: 0.7021\n"
          ],
          "name": "stdout"
        },
        {
          "output_type": "execute_result",
          "data": {
            "text/plain": [
              "<tensorflow.python.keras.callbacks.History at 0x7fe936040630>"
            ]
          },
          "metadata": {
            "tags": []
          },
          "execution_count": 32
        }
      ]
    },
    {
      "cell_type": "code",
      "metadata": {
        "id": "xQ2g9Svz8WX9",
        "colab_type": "code",
        "outputId": "99aa6361-b590-4be9-a40a-712197b8a3e1",
        "colab": {
          "base_uri": "https://localhost:8080/",
          "height": 51
        }
      },
      "source": [
        "test_loss, test_accuracy = model_MLP.evaluate(x=X_test_std, y=y_test)\n",
        "print(test_loss, test_accuracy)\n"
      ],
      "execution_count": 0,
      "outputs": [
        {
          "output_type": "stream",
          "text": [
            "117/117 [==============================] - 0s 59us/sample - loss: -84.6536 - acc: 0.7436\n",
            "-84.65364922417535 0.74358976\n"
          ],
          "name": "stdout"
        }
      ]
    }
  ]
}