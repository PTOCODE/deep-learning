{
  "nbformat": 4,
  "nbformat_minor": 0,
  "metadata": {
    "colab": {
      "name": "wineMLP  and  keras MLP .ipynb",
      "provenance": [],
      "collapsed_sections": []
    },
    "kernelspec": {
      "name": "python3",
      "display_name": "Python 3"
    }
  },
  "cells": [
    {
      "cell_type": "code",
      "metadata": {
        "id": "Yn5RnyGfCz8G",
        "colab_type": "code",
        "colab": {}
      },
      "source": [
        "import numpy as np\n",
        "import pandas as pd\n",
        "import matplotlib.pyplot as plt"
      ],
      "execution_count": 0,
      "outputs": []
    },
    {
      "cell_type": "code",
      "metadata": {
        "id": "wxI-40ZuC3r3",
        "colab_type": "code",
        "colab": {}
      },
      "source": [
        "from sklearn.datasets import load_wine\n"
      ],
      "execution_count": 0,
      "outputs": []
    },
    {
      "cell_type": "code",
      "metadata": {
        "id": "DtvLpDpYFbd-",
        "colab_type": "code",
        "colab": {}
      },
      "source": [
        "from sklearn.neural_network import MLPClassifier"
      ],
      "execution_count": 0,
      "outputs": []
    },
    {
      "cell_type": "code",
      "metadata": {
        "id": "q6GBemqcFgIQ",
        "colab_type": "code",
        "colab": {}
      },
      "source": [
        "X, y = load_wine(return_X_y=True)"
      ],
      "execution_count": 0,
      "outputs": []
    },
    {
      "cell_type": "code",
      "metadata": {
        "id": "NUfWiLkBFgL_",
        "colab_type": "code",
        "colab": {}
      },
      "source": [
        "\n",
        "from sklearn.model_selection import train_test_split\n",
        "#unbiased splitting\n",
        "X_train, X_test, y_train, y_test = train_test_split(X, y, test_size=0.2,\n",
        "stratify=y, random_state=42)\n",
        "# object (model) for MLP.\n",
        "mlpClassifier = MLPClassifier(solver='lbfgs', alpha=1e-5,hidden_layer_sizes=(25, 25), random_state=1)"
      ],
      "execution_count": 0,
      "outputs": []
    },
    {
      "cell_type": "code",
      "metadata": {
        "id": "aBxigliHF6zN",
        "colab_type": "code",
        "outputId": "57229a9a-14c2-40e1-c721-81297103b3ff",
        "colab": {
          "base_uri": "https://localhost:8080/",
          "height": 255
        }
      },
      "source": [
        "mlpClassifier.fit(X_train, y_train)"
      ],
      "execution_count": 6,
      "outputs": [
        {
          "output_type": "stream",
          "text": [
            "/usr/local/lib/python3.6/dist-packages/sklearn/neural_network/_multilayer_perceptron.py:470: ConvergenceWarning: lbfgs failed to converge (status=1):\n",
            "STOP: TOTAL NO. of ITERATIONS REACHED LIMIT.\n",
            "\n",
            "Increase the number of iterations (max_iter) or scale the data as shown in:\n",
            "    https://scikit-learn.org/stable/modules/preprocessing.html\n",
            "  self.n_iter_ = _check_optimize_result(\"lbfgs\", opt_res, self.max_iter)\n"
          ],
          "name": "stderr"
        },
        {
          "output_type": "execute_result",
          "data": {
            "text/plain": [
              "MLPClassifier(activation='relu', alpha=1e-05, batch_size='auto', beta_1=0.9,\n",
              "              beta_2=0.999, early_stopping=False, epsilon=1e-08,\n",
              "              hidden_layer_sizes=(25, 25), learning_rate='constant',\n",
              "              learning_rate_init=0.001, max_fun=15000, max_iter=200,\n",
              "              momentum=0.9, n_iter_no_change=10, nesterovs_momentum=True,\n",
              "              power_t=0.5, random_state=1, shuffle=True, solver='lbfgs',\n",
              "              tol=0.0001, validation_fraction=0.1, verbose=False,\n",
              "              warm_start=False)"
            ]
          },
          "metadata": {
            "tags": []
          },
          "execution_count": 6
        }
      ]
    },
    {
      "cell_type": "code",
      "metadata": {
        "id": "VdR6RWfTFgPk",
        "colab_type": "code",
        "outputId": "427fce28-e3b2-421e-f4a3-9acfe58fa137",
        "colab": {
          "base_uri": "https://localhost:8080/",
          "height": 34
        }
      },
      "source": [
        "score = mlpClassifier.score(X_test, y_test)\n",
        "print(score)"
      ],
      "execution_count": 7,
      "outputs": [
        {
          "output_type": "stream",
          "text": [
            "0.9444444444444444\n"
          ],
          "name": "stdout"
        }
      ]
    },
    {
      "cell_type": "markdown",
      "metadata": {
        "id": "tn14ejqHGL-E",
        "colab_type": "text"
      },
      "source": [
        "#ACCURACY=94%"
      ]
    },
    {
      "cell_type": "markdown",
      "metadata": {
        "id": "z-F9NERVFTeN",
        "colab_type": "text"
      },
      "source": [
        "# **USING KERAS MLP**\n",
        "\n",
        "---\n",
        "\n",
        "\n",
        "\n",
        "---\n",
        "\n",
        "\n",
        "\n",
        "---\n",
        "\n"
      ]
    },
    {
      "cell_type": "code",
      "metadata": {
        "id": "ZIddy__UEy5U",
        "colab_type": "code",
        "outputId": "f11d430d-a423-490f-a636-ebc832644623",
        "colab": {
          "base_uri": "https://localhost:8080/",
          "height": 63
        }
      },
      "source": [
        "import tensorflow as tf\n",
        "from tensorflow import keras"
      ],
      "execution_count": 8,
      "outputs": [
        {
          "output_type": "display_data",
          "data": {
            "text/html": [
              "<p style=\"color: red;\">\n",
              "The default version of TensorFlow in Colab will soon switch to TensorFlow 2.x.<br>\n",
              "We recommend you <a href=\"https://www.tensorflow.org/guide/migrate\" target=\"_blank\">upgrade</a> now \n",
              "or ensure your notebook will continue to use TensorFlow 1.x via the <code>%tensorflow_version 1.x</code> magic:\n",
              "<a href=\"https://colab.research.google.com/notebooks/tensorflow_version.ipynb\" target=\"_blank\">more info</a>.</p>\n"
            ],
            "text/plain": [
              "<IPython.core.display.HTML object>"
            ]
          },
          "metadata": {
            "tags": []
          }
        }
      ]
    },
    {
      "cell_type": "code",
      "metadata": {
        "id": "Wr3iLWSVFAeL",
        "colab_type": "code",
        "colab": {}
      },
      "source": [
        "tf.set_random_seed(42)\n",
        "np.random.seed(42)"
      ],
      "execution_count": 0,
      "outputs": []
    },
    {
      "cell_type": "code",
      "metadata": {
        "id": "WkBwXRDIGVtK",
        "colab_type": "code",
        "colab": {}
      },
      "source": [
        "wineData = load_wine()\n",
        "\n",
        "# Load the attributes and target in X and y\n",
        "X = wineData.data\n",
        "y = wineData.target"
      ],
      "execution_count": 0,
      "outputs": []
    },
    {
      "cell_type": "code",
      "metadata": {
        "id": "B7A-xdGIGdzg",
        "colab_type": "code",
        "colab": {}
      },
      "source": [
        "from sklearn.model_selection import train_test_split\n",
        "\n",
        "X_train, X_test, y_train, y_test = train_test_split(X, y, test_size=0.2,\n",
        "stratify=y, random_state=42)"
      ],
      "execution_count": 0,
      "outputs": []
    },
    {
      "cell_type": "code",
      "metadata": {
        "id": "PNFG2yXoG8ji",
        "colab_type": "code",
        "colab": {}
      },
      "source": [
        "from sklearn.preprocessing import StandardScaler\n",
        "sc = StandardScaler()\n",
        "# Training the feature scaling parameters\n",
        "sc.fit(X_train)\n",
        "# Applying transformations to both training and testing set\n",
        "X_train_std = sc.transform(X_train)\n",
        "X_test_std = sc.transform(X_test)"
      ],
      "execution_count": 0,
      "outputs": []
    },
    {
      "cell_type": "code",
      "metadata": {
        "id": "3RoINYNFHCWQ",
        "colab_type": "code",
        "outputId": "07a6fb54-b5ec-4307-cb89-fa7abe2299b4",
        "colab": {
          "base_uri": "https://localhost:8080/",
          "height": 292
        }
      },
      "source": [
        "# Create neural network using keras API\n",
        "# Sequential() does linear stacking of layers\n",
        "model_MLP = keras.models.Sequential()\n",
        "# Hidden layer definitions\n",
        "model_MLP.add(keras.layers.Dense(units=10, activation='relu',\n",
        "input_shape= X_train.shape[1:]))\n",
        "# Output layer definitions\n",
        "model_MLP.add(keras.layers.Dense(units=5, activation='softmax'))\n",
        "\n",
        "# Print the summary of network architecture\n",
        "model_MLP.summary()"
      ],
      "execution_count": 13,
      "outputs": [
        {
          "output_type": "stream",
          "text": [
            "WARNING:tensorflow:From /usr/local/lib/python3.6/dist-packages/tensorflow_core/python/ops/resource_variable_ops.py:1630: calling BaseResourceVariable.__init__ (from tensorflow.python.ops.resource_variable_ops) with constraint is deprecated and will be removed in a future version.\n",
            "Instructions for updating:\n",
            "If using Keras pass *_constraint arguments to layers.\n",
            "Model: \"sequential\"\n",
            "_________________________________________________________________\n",
            "Layer (type)                 Output Shape              Param #   \n",
            "=================================================================\n",
            "dense (Dense)                (None, 10)                140       \n",
            "_________________________________________________________________\n",
            "dense_1 (Dense)              (None, 5)                 55        \n",
            "=================================================================\n",
            "Total params: 195\n",
            "Trainable params: 195\n",
            "Non-trainable params: 0\n",
            "_________________________________________________________________\n"
          ],
          "name": "stdout"
        }
      ]
    },
    {
      "cell_type": "code",
      "metadata": {
        "id": "jeeAc6tqLqFQ",
        "colab_type": "code",
        "colab": {}
      },
      "source": [
        "model_MLP.compile(loss='sparse_categorical_crossentropy',\n",
        "optimizer='adam', metrics=['accuracy'])"
      ],
      "execution_count": 0,
      "outputs": []
    },
    {
      "cell_type": "code",
      "metadata": {
        "id": "zPqkR9FbL8Kk",
        "colab_type": "code",
        "outputId": "bc7291d6-5457-4445-f2d6-129ccadf0d2c",
        "colab": {
          "base_uri": "https://localhost:8080/",
          "height": 1000
        }
      },
      "source": [
        "model_MLP.fit(x=X_train_std, y=y_train, validation_split=0.1, epochs=50,\n",
        "batch_size=16)"
      ],
      "execution_count": 15,
      "outputs": [
        {
          "output_type": "stream",
          "text": [
            "Train on 127 samples, validate on 15 samples\n",
            "Epoch 1/50\n",
            "127/127 [==============================] - 0s 2ms/sample - loss: 1.7413 - acc: 0.1811 - val_loss: 1.4392 - val_acc: 0.3333\n",
            "Epoch 2/50\n",
            "127/127 [==============================] - 0s 136us/sample - loss: 1.6436 - acc: 0.2126 - val_loss: 1.3560 - val_acc: 0.3333\n",
            "Epoch 3/50\n",
            "127/127 [==============================] - 0s 130us/sample - loss: 1.5517 - acc: 0.2283 - val_loss: 1.2819 - val_acc: 0.3333\n",
            "Epoch 4/50\n",
            "127/127 [==============================] - 0s 122us/sample - loss: 1.4686 - acc: 0.2520 - val_loss: 1.2163 - val_acc: 0.4000\n",
            "Epoch 5/50\n",
            "127/127 [==============================] - 0s 126us/sample - loss: 1.3933 - acc: 0.3071 - val_loss: 1.1541 - val_acc: 0.4000\n",
            "Epoch 6/50\n",
            "127/127 [==============================] - 0s 131us/sample - loss: 1.3202 - acc: 0.3543 - val_loss: 1.0963 - val_acc: 0.4000\n",
            "Epoch 7/50\n",
            "127/127 [==============================] - 0s 126us/sample - loss: 1.2545 - acc: 0.3701 - val_loss: 1.0444 - val_acc: 0.4000\n",
            "Epoch 8/50\n",
            "127/127 [==============================] - 0s 128us/sample - loss: 1.1943 - acc: 0.3858 - val_loss: 0.9973 - val_acc: 0.4667\n",
            "Epoch 9/50\n",
            "127/127 [==============================] - 0s 147us/sample - loss: 1.1380 - acc: 0.4331 - val_loss: 0.9520 - val_acc: 0.4667\n",
            "Epoch 10/50\n",
            "127/127 [==============================] - 0s 204us/sample - loss: 1.0848 - acc: 0.4724 - val_loss: 0.9105 - val_acc: 0.4667\n",
            "Epoch 11/50\n",
            "127/127 [==============================] - 0s 151us/sample - loss: 1.0358 - acc: 0.5039 - val_loss: 0.8705 - val_acc: 0.4667\n",
            "Epoch 12/50\n",
            "127/127 [==============================] - 0s 123us/sample - loss: 0.9908 - acc: 0.5039 - val_loss: 0.8334 - val_acc: 0.4667\n",
            "Epoch 13/50\n",
            "127/127 [==============================] - 0s 123us/sample - loss: 0.9466 - acc: 0.5197 - val_loss: 0.7992 - val_acc: 0.4667\n",
            "Epoch 14/50\n",
            "127/127 [==============================] - 0s 128us/sample - loss: 0.9035 - acc: 0.5433 - val_loss: 0.7656 - val_acc: 0.4667\n",
            "Epoch 15/50\n",
            "127/127 [==============================] - 0s 126us/sample - loss: 0.8622 - acc: 0.5669 - val_loss: 0.7326 - val_acc: 0.4667\n",
            "Epoch 16/50\n",
            "127/127 [==============================] - 0s 141us/sample - loss: 0.8231 - acc: 0.5906 - val_loss: 0.6990 - val_acc: 0.4667\n",
            "Epoch 17/50\n",
            "127/127 [==============================] - 0s 127us/sample - loss: 0.7818 - acc: 0.6220 - val_loss: 0.6676 - val_acc: 0.5333\n",
            "Epoch 18/50\n",
            "127/127 [==============================] - 0s 131us/sample - loss: 0.7439 - acc: 0.6457 - val_loss: 0.6358 - val_acc: 0.6667\n",
            "Epoch 19/50\n",
            "127/127 [==============================] - 0s 136us/sample - loss: 0.7064 - acc: 0.7008 - val_loss: 0.6057 - val_acc: 0.6667\n",
            "Epoch 20/50\n",
            "127/127 [==============================] - 0s 123us/sample - loss: 0.6699 - acc: 0.7480 - val_loss: 0.5757 - val_acc: 0.6667\n",
            "Epoch 21/50\n",
            "127/127 [==============================] - 0s 115us/sample - loss: 0.6344 - acc: 0.7953 - val_loss: 0.5465 - val_acc: 0.9333\n",
            "Epoch 22/50\n",
            "127/127 [==============================] - 0s 139us/sample - loss: 0.6007 - acc: 0.8819 - val_loss: 0.5191 - val_acc: 0.9333\n",
            "Epoch 23/50\n",
            "127/127 [==============================] - 0s 117us/sample - loss: 0.5695 - acc: 0.9213 - val_loss: 0.4921 - val_acc: 0.9333\n",
            "Epoch 24/50\n",
            "127/127 [==============================] - 0s 134us/sample - loss: 0.5378 - acc: 0.9449 - val_loss: 0.4668 - val_acc: 1.0000\n",
            "Epoch 25/50\n",
            "127/127 [==============================] - 0s 141us/sample - loss: 0.5080 - acc: 0.9606 - val_loss: 0.4424 - val_acc: 1.0000\n",
            "Epoch 26/50\n",
            "127/127 [==============================] - 0s 133us/sample - loss: 0.4802 - acc: 0.9685 - val_loss: 0.4194 - val_acc: 1.0000\n",
            "Epoch 27/50\n",
            "127/127 [==============================] - 0s 140us/sample - loss: 0.4529 - acc: 0.9685 - val_loss: 0.3968 - val_acc: 1.0000\n",
            "Epoch 28/50\n",
            "127/127 [==============================] - 0s 141us/sample - loss: 0.4273 - acc: 0.9764 - val_loss: 0.3762 - val_acc: 1.0000\n",
            "Epoch 29/50\n",
            "127/127 [==============================] - 0s 165us/sample - loss: 0.4040 - acc: 0.9764 - val_loss: 0.3566 - val_acc: 1.0000\n",
            "Epoch 30/50\n",
            "127/127 [==============================] - 0s 143us/sample - loss: 0.3820 - acc: 0.9843 - val_loss: 0.3378 - val_acc: 1.0000\n",
            "Epoch 31/50\n",
            "127/127 [==============================] - 0s 131us/sample - loss: 0.3617 - acc: 0.9843 - val_loss: 0.3200 - val_acc: 1.0000\n",
            "Epoch 32/50\n",
            "127/127 [==============================] - 0s 228us/sample - loss: 0.3424 - acc: 0.9921 - val_loss: 0.3031 - val_acc: 1.0000\n",
            "Epoch 33/50\n",
            "127/127 [==============================] - 0s 116us/sample - loss: 0.3244 - acc: 0.9921 - val_loss: 0.2870 - val_acc: 1.0000\n",
            "Epoch 34/50\n",
            "127/127 [==============================] - 0s 165us/sample - loss: 0.3068 - acc: 0.9921 - val_loss: 0.2722 - val_acc: 1.0000\n",
            "Epoch 35/50\n",
            "127/127 [==============================] - 0s 126us/sample - loss: 0.2916 - acc: 0.9921 - val_loss: 0.2576 - val_acc: 1.0000\n",
            "Epoch 36/50\n",
            "127/127 [==============================] - 0s 119us/sample - loss: 0.2766 - acc: 0.9921 - val_loss: 0.2438 - val_acc: 1.0000\n",
            "Epoch 37/50\n",
            "127/127 [==============================] - 0s 139us/sample - loss: 0.2625 - acc: 0.9921 - val_loss: 0.2307 - val_acc: 1.0000\n",
            "Epoch 38/50\n",
            "127/127 [==============================] - 0s 138us/sample - loss: 0.2488 - acc: 0.9921 - val_loss: 0.2191 - val_acc: 1.0000\n",
            "Epoch 39/50\n",
            "127/127 [==============================] - 0s 136us/sample - loss: 0.2365 - acc: 0.9921 - val_loss: 0.2079 - val_acc: 1.0000\n",
            "Epoch 40/50\n",
            "127/127 [==============================] - 0s 132us/sample - loss: 0.2249 - acc: 0.9921 - val_loss: 0.1967 - val_acc: 1.0000\n",
            "Epoch 41/50\n",
            "127/127 [==============================] - 0s 124us/sample - loss: 0.2139 - acc: 0.9921 - val_loss: 0.1863 - val_acc: 1.0000\n",
            "Epoch 42/50\n",
            "127/127 [==============================] - 0s 133us/sample - loss: 0.2041 - acc: 0.9921 - val_loss: 0.1763 - val_acc: 1.0000\n",
            "Epoch 43/50\n",
            "127/127 [==============================] - 0s 111us/sample - loss: 0.1944 - acc: 0.9921 - val_loss: 0.1671 - val_acc: 1.0000\n",
            "Epoch 44/50\n",
            "127/127 [==============================] - 0s 155us/sample - loss: 0.1857 - acc: 0.9921 - val_loss: 0.1581 - val_acc: 1.0000\n",
            "Epoch 45/50\n",
            "127/127 [==============================] - 0s 173us/sample - loss: 0.1769 - acc: 0.9921 - val_loss: 0.1501 - val_acc: 1.0000\n",
            "Epoch 46/50\n",
            "127/127 [==============================] - 0s 163us/sample - loss: 0.1689 - acc: 0.9921 - val_loss: 0.1426 - val_acc: 1.0000\n",
            "Epoch 47/50\n",
            "127/127 [==============================] - 0s 185us/sample - loss: 0.1615 - acc: 0.9921 - val_loss: 0.1356 - val_acc: 1.0000\n",
            "Epoch 48/50\n",
            "127/127 [==============================] - 0s 145us/sample - loss: 0.1546 - acc: 0.9921 - val_loss: 0.1288 - val_acc: 1.0000\n",
            "Epoch 49/50\n",
            "127/127 [==============================] - 0s 126us/sample - loss: 0.1480 - acc: 0.9921 - val_loss: 0.1225 - val_acc: 1.0000\n",
            "Epoch 50/50\n",
            "127/127 [==============================] - 0s 151us/sample - loss: 0.1419 - acc: 1.0000 - val_loss: 0.1168 - val_acc: 1.0000\n"
          ],
          "name": "stdout"
        },
        {
          "output_type": "execute_result",
          "data": {
            "text/plain": [
              "<tensorflow.python.keras.callbacks.History at 0x7f842e994f28>"
            ]
          },
          "metadata": {
            "tags": []
          },
          "execution_count": 15
        }
      ]
    },
    {
      "cell_type": "code",
      "metadata": {
        "id": "Y4frkiezL_gX",
        "colab_type": "code",
        "outputId": "b16d65bb-dccd-4a4e-bc0f-e70124eef108",
        "colab": {
          "base_uri": "https://localhost:8080/",
          "height": 34
        }
      },
      "source": [
        "test_loss, test_accuracy = model_MLP.evaluate(x=X_test_std, y=y_test)"
      ],
      "execution_count": 16,
      "outputs": [
        {
          "output_type": "stream",
          "text": [
            "36/36 [==============================] - 0s 160us/sample - loss: 0.1817 - acc: 0.9722\n"
          ],
          "name": "stdout"
        }
      ]
    },
    {
      "cell_type": "code",
      "metadata": {
        "id": "-kN71QHBMI2O",
        "colab_type": "code",
        "outputId": "f0d32057-4447-453f-ab1a-5ce3e68dc759",
        "colab": {
          "base_uri": "https://localhost:8080/",
          "height": 34
        }
      },
      "source": [
        "print(test_loss, test_accuracy)"
      ],
      "execution_count": 17,
      "outputs": [
        {
          "output_type": "stream",
          "text": [
            "0.1817130297422409 0.9722222\n"
          ],
          "name": "stdout"
        }
      ]
    },
    {
      "cell_type": "markdown",
      "metadata": {
        "id": "fQd7tQNXGFfs",
        "colab_type": "text"
      },
      "source": [
        "\n",
        "\n",
        "\n",
        "## **accuracy=97%**"
      ]
    },
    {
      "cell_type": "code",
      "metadata": {
        "id": "U9-xNnVkGJ3c",
        "colab_type": "code",
        "colab": {}
      },
      "source": [
        ""
      ],
      "execution_count": 0,
      "outputs": []
    }
  ]
}