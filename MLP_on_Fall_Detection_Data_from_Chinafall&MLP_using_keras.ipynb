{
  "nbformat": 4,
  "nbformat_minor": 0,
  "metadata": {
    "colab": {
      "name": "MLP on Fall Detection Data from Chinafall&MLP using keras.ipynb",
      "provenance": [],
      "collapsed_sections": []
    },
    "kernelspec": {
      "name": "python3",
      "display_name": "Python 3"
    }
  },
  "cells": [
    {
      "cell_type": "code",
      "metadata": {
        "id": "dSEJlSEEn85b",
        "colab_type": "code",
        "colab": {}
      },
      "source": [
        "import numpy as np\n",
        "import matplotlib.pyplot as plt\n",
        "import pandas as pd"
      ],
      "execution_count": 0,
      "outputs": []
    },
    {
      "cell_type": "code",
      "metadata": {
        "id": "rLaefRW5piwj",
        "colab_type": "code",
        "colab": {}
      },
      "source": [
        "from sklearn.neural_network import MLPClassifier"
      ],
      "execution_count": 0,
      "outputs": []
    },
    {
      "cell_type": "markdown",
      "metadata": {
        "id": "klTwiFPt58Ax",
        "colab_type": "text"
      },
      "source": [
        "MLP on Fall Detection Data from China (Multi-class\n",
        "Classification)"
      ]
    },
    {
      "cell_type": "code",
      "metadata": {
        "id": "XHqLrNwnx9nm",
        "colab_type": "code",
        "outputId": "2b3caa13-0f4c-416d-b3c4-cc6acadea49e",
        "colab": {
          "base_uri": "https://localhost:8080/",
          "height": 122
        }
      },
      "source": [
        "from google.colab import drive\n",
        "drive.mount('/content/drive')"
      ],
      "execution_count": 4,
      "outputs": [
        {
          "output_type": "stream",
          "text": [
            "Go to this URL in a browser: https://accounts.google.com/o/oauth2/auth?client_id=947318989803-6bn6qk8qdgf4n4g3pfee6491hc0brc4i.apps.googleusercontent.com&redirect_uri=urn%3aietf%3awg%3aoauth%3a2.0%3aoob&response_type=code&scope=email%20https%3a%2f%2fwww.googleapis.com%2fauth%2fdocs.test%20https%3a%2f%2fwww.googleapis.com%2fauth%2fdrive%20https%3a%2f%2fwww.googleapis.com%2fauth%2fdrive.photos.readonly%20https%3a%2f%2fwww.googleapis.com%2fauth%2fpeopleapi.readonly\n",
            "\n",
            "Enter your authorization code:\n",
            "··········\n",
            "Mounted at /content/drive\n"
          ],
          "name": "stdout"
        }
      ]
    },
    {
      "cell_type": "code",
      "metadata": {
        "id": "0rtrfZLqpxpu",
        "colab_type": "code",
        "colab": {}
      },
      "source": [
        "dataset=pd.read_csv('/content/drive/My Drive/datasets/falldeteciton.csv')"
      ],
      "execution_count": 0,
      "outputs": []
    },
    {
      "cell_type": "code",
      "metadata": {
        "id": "rhH-7JCXg7Zm",
        "colab_type": "code",
        "colab": {
          "base_uri": "https://localhost:8080/",
          "height": 221
        },
        "outputId": "cac23a97-bf48-42c0-d7d3-f97961711f43"
      },
      "source": [
        "dataset.info()"
      ],
      "execution_count": 19,
      "outputs": [
        {
          "output_type": "stream",
          "text": [
            "<class 'pandas.core.frame.DataFrame'>\n",
            "RangeIndex: 16382 entries, 0 to 16381\n",
            "Data columns (total 7 columns):\n",
            "ACTIVITY       16382 non-null int64\n",
            "TIME           16382 non-null float64\n",
            "SL             16382 non-null float64\n",
            "EEG            16382 non-null float64\n",
            "BP             16382 non-null int64\n",
            "HR             16382 non-null int64\n",
            "CIRCLUATION    16382 non-null int64\n",
            "dtypes: float64(3), int64(4)\n",
            "memory usage: 896.0 KB\n"
          ],
          "name": "stdout"
        }
      ]
    },
    {
      "cell_type": "code",
      "metadata": {
        "id": "_vXlq7mIpyWc",
        "colab_type": "code",
        "colab": {}
      },
      "source": [
        "X=dataset.iloc[:,1:7].values\n",
        "y=dataset.iloc[:,0].values"
      ],
      "execution_count": 0,
      "outputs": []
    },
    {
      "cell_type": "code",
      "metadata": {
        "id": "bvmK9KjuqHMH",
        "colab_type": "code",
        "outputId": "8ff007e8-a588-426a-c6ab-9c6c00adc725",
        "colab": {
          "base_uri": "https://localhost:8080/",
          "height": 238
        }
      },
      "source": [
        "print(X)\n",
        "\n"
      ],
      "execution_count": 21,
      "outputs": [
        {
          "output_type": "stream",
          "text": [
            "[[ 4.72292e+03  4.01964e+03 -1.60000e+03  1.30000e+01  7.90000e+01\n",
            "   3.17000e+02]\n",
            " [ 4.05912e+03  2.19103e+03 -1.14608e+03  2.00000e+01  5.40000e+01\n",
            "   1.65000e+02]\n",
            " [ 4.77356e+03  2.78799e+03 -1.26338e+03  4.60000e+01  6.70000e+01\n",
            "   2.24000e+02]\n",
            " ...\n",
            " [ 8.87253e+03  2.74499e+04 -2.87000e+03  3.30000e+01  1.56000e+02\n",
            "   1.36400e+03]\n",
            " [ 7.73899e+03  2.64664e+04 -2.92024e+03  9.70000e+01  1.56000e+02\n",
            "   1.52100e+03]\n",
            " [ 9.36834e+03  3.91491e+04 -2.97000e+03  2.10000e+01  1.96000e+02\n",
            "   1.88500e+03]]\n"
          ],
          "name": "stdout"
        }
      ]
    },
    {
      "cell_type": "code",
      "metadata": {
        "id": "7KHWIsYHp3AF",
        "colab_type": "code",
        "outputId": "0e931808-ef1d-4fb3-cd32-0ec46e9fdaa8",
        "colab": {
          "base_uri": "https://localhost:8080/",
          "height": 34
        }
      },
      "source": [
        "print (dataset.isnull().values.any())"
      ],
      "execution_count": 22,
      "outputs": [
        {
          "output_type": "stream",
          "text": [
            "False\n"
          ],
          "name": "stdout"
        }
      ]
    },
    {
      "cell_type": "code",
      "metadata": {
        "id": "oZ_7lv9iqeKA",
        "colab_type": "code",
        "colab": {}
      },
      "source": [
        "from sklearn.model_selection import train_test_split\n",
        "# While splitting, make an unbiased splitting\n",
        "X_train, X_test, y_train, y_test = train_test_split(X, y, test_size=0.2, stratify=y,\n",
        "random_state=42)\n",
        "# Create an object (model) for Perceptron."
      ],
      "execution_count": 0,
      "outputs": []
    },
    {
      "cell_type": "code",
      "metadata": {
        "id": "KVTYFPjAqlUU",
        "colab_type": "code",
        "colab": {}
      },
      "source": [
        "mlpClassifier = MLPClassifier(solver='lbfgs', alpha=1e-5,\n",
        "hidden_layer_sizes=(10, 1), random_state=1)"
      ],
      "execution_count": 0,
      "outputs": []
    },
    {
      "cell_type": "code",
      "metadata": {
        "id": "Qwv5ErM6qn6t",
        "colab_type": "code",
        "outputId": "fc8bfe12-b90e-4930-9340-3be5e9062333",
        "colab": {
          "base_uri": "https://localhost:8080/",
          "height": 34
        }
      },
      "source": [
        "mlpClassifier.fit(X_train, y_train)\n",
        "\n",
        "score = mlpClassifier.score(X_test, y_test)\n",
        "\n",
        "print(score)"
      ],
      "execution_count": 27,
      "outputs": [
        {
          "output_type": "stream",
          "text": [
            "0.2813548977723528\n"
          ],
          "name": "stdout"
        }
      ]
    },
    {
      "cell_type": "markdown",
      "metadata": {
        "id": "xjJEsF1vDALY",
        "colab_type": "text"
      },
      "source": [
        "ACCURACY=28%\n",
        "---\n",
        "\n",
        "\n",
        "\n",
        "---\n",
        "\n"
      ]
    },
    {
      "cell_type": "code",
      "metadata": {
        "id": "LdBubeFfDFGx",
        "colab_type": "code",
        "colab": {
          "base_uri": "https://localhost:8080/",
          "height": 63
        },
        "outputId": "089822e0-c0cb-4fa9-9787-34d95c6c9e4d"
      },
      "source": [
        "# Importing both TensorFlow and its high level API - Keras.\n",
        "import tensorflow as tf\n",
        "from tensorflow import keras\n",
        "# Setting the random seeds for repeatability\n",
        "tf.set_random_seed(42)\n",
        "np.random.seed(42)"
      ],
      "execution_count": 13,
      "outputs": [
        {
          "output_type": "display_data",
          "data": {
            "text/html": [
              "<p style=\"color: red;\">\n",
              "The default version of TensorFlow in Colab will soon switch to TensorFlow 2.x.<br>\n",
              "We recommend you <a href=\"https://www.tensorflow.org/guide/migrate\" target=\"_blank\">upgrade</a> now \n",
              "or ensure your notebook will continue to use TensorFlow 1.x via the <code>%tensorflow_version 1.x</code> magic:\n",
              "<a href=\"https://colab.research.google.com/notebooks/tensorflow_version.ipynb\" target=\"_blank\">more info</a>.</p>\n"
            ],
            "text/plain": [
              "<IPython.core.display.HTML object>"
            ]
          },
          "metadata": {
            "tags": []
          }
        }
      ]
    },
    {
      "cell_type": "code",
      "metadata": {
        "id": "SaYuVqBrqqFh",
        "colab_type": "code",
        "colab": {}
      },
      "source": [
        "# Split the data into 80% training and 20% testing\n",
        "from sklearn.model_selection import train_test_split\n",
        "X_train, X_test, y_train, y_test = train_test_split(X, y, test_size=0.2,\n",
        "random_state=42)\n",
        "# Feature scaling using Standardization\n",
        "from sklearn.preprocessing import StandardScaler\n",
        "sc = StandardScaler()\n",
        "# Training the feature scaling parameters\n",
        "sc.fit(X_train)\n",
        "# Applying transformations to both training and testing set\n",
        "X_train_std = sc.transform(X_train)\n",
        "X_test_std = sc.transform(X_test)"
      ],
      "execution_count": 0,
      "outputs": []
    },
    {
      "cell_type": "code",
      "metadata": {
        "id": "mkWOl_USDQLw",
        "colab_type": "code",
        "outputId": "03791216-2ce5-4f81-99ed-f87ac508eec8",
        "colab": {
          "base_uri": "https://localhost:8080/",
          "height": 88
        }
      },
      "source": [
        "model_MLP = keras.models.Sequential()\n",
        "# Hidden layer definitions\n",
        "model_MLP.add(keras.layers.Dense(units=25, activation='tanh',\n",
        "input_shape= X_train.shape[1:]))\n",
        "# Output layer definitions\n",
        "model_MLP.add(keras.layers.Dense(units=7, activation='softmax'))"
      ],
      "execution_count": 15,
      "outputs": [
        {
          "output_type": "stream",
          "text": [
            "WARNING:tensorflow:From /usr/local/lib/python3.6/dist-packages/tensorflow_core/python/ops/resource_variable_ops.py:1630: calling BaseResourceVariable.__init__ (from tensorflow.python.ops.resource_variable_ops) with constraint is deprecated and will be removed in a future version.\n",
            "Instructions for updating:\n",
            "If using Keras pass *_constraint arguments to layers.\n"
          ],
          "name": "stdout"
        }
      ]
    },
    {
      "cell_type": "code",
      "metadata": {
        "id": "_XqUwMPTDQQ3",
        "colab_type": "code",
        "colab": {}
      },
      "source": [
        "model_MLP.compile(loss='sparse_categorical_crossentropy',\n",
        "optimizer='adam', metrics=['accuracy'])"
      ],
      "execution_count": 0,
      "outputs": []
    },
    {
      "cell_type": "code",
      "metadata": {
        "id": "qB5zJj9VDQT_",
        "colab_type": "code",
        "outputId": "395b0026-3c61-4320-cc4f-1b50d7db9975",
        "colab": {
          "base_uri": "https://localhost:8080/",
          "height": 1000
        }
      },
      "source": [
        "model_MLP.fit(x=X_train_std, y=y_train, validation_split=0.1,\n",
        "epochs=50, batch_size=25)"
      ],
      "execution_count": 17,
      "outputs": [
        {
          "output_type": "stream",
          "text": [
            "Train on 11794 samples, validate on 1311 samples\n",
            "Epoch 1/50\n",
            "11794/11794 [==============================] - 1s 86us/sample - loss: 1.7180 - acc: 0.3141 - val_loss: 1.6160 - val_acc: 0.3318\n",
            "Epoch 2/50\n",
            "11794/11794 [==============================] - 1s 65us/sample - loss: 1.5878 - acc: 0.3332 - val_loss: 1.5801 - val_acc: 0.3448\n",
            "Epoch 3/50\n",
            "11794/11794 [==============================] - 1s 63us/sample - loss: 1.5663 - acc: 0.3526 - val_loss: 1.5650 - val_acc: 0.3593\n",
            "Epoch 4/50\n",
            "11794/11794 [==============================] - 1s 63us/sample - loss: 1.5513 - acc: 0.3613 - val_loss: 1.5490 - val_acc: 0.3631\n",
            "Epoch 5/50\n",
            "11794/11794 [==============================] - 1s 63us/sample - loss: 1.5385 - acc: 0.3676 - val_loss: 1.5364 - val_acc: 0.3806\n",
            "Epoch 6/50\n",
            "11794/11794 [==============================] - 1s 62us/sample - loss: 1.5264 - acc: 0.3743 - val_loss: 1.5246 - val_acc: 0.3814\n",
            "Epoch 7/50\n",
            "11794/11794 [==============================] - 1s 63us/sample - loss: 1.5163 - acc: 0.3831 - val_loss: 1.5103 - val_acc: 0.3814\n",
            "Epoch 8/50\n",
            "11794/11794 [==============================] - 1s 64us/sample - loss: 1.5051 - acc: 0.3877 - val_loss: 1.5005 - val_acc: 0.3745\n",
            "Epoch 9/50\n",
            "11794/11794 [==============================] - 1s 62us/sample - loss: 1.4957 - acc: 0.3902 - val_loss: 1.4912 - val_acc: 0.4119\n",
            "Epoch 10/50\n",
            "11794/11794 [==============================] - 1s 63us/sample - loss: 1.4866 - acc: 0.3997 - val_loss: 1.4891 - val_acc: 0.4157\n",
            "Epoch 11/50\n",
            "11794/11794 [==============================] - 1s 61us/sample - loss: 1.4779 - acc: 0.4054 - val_loss: 1.4768 - val_acc: 0.3913\n",
            "Epoch 12/50\n",
            "11794/11794 [==============================] - 1s 65us/sample - loss: 1.4698 - acc: 0.4065 - val_loss: 1.4665 - val_acc: 0.4165\n",
            "Epoch 13/50\n",
            "11794/11794 [==============================] - 1s 65us/sample - loss: 1.4618 - acc: 0.4135 - val_loss: 1.4636 - val_acc: 0.4119\n",
            "Epoch 14/50\n",
            "11794/11794 [==============================] - 1s 63us/sample - loss: 1.4545 - acc: 0.4174 - val_loss: 1.4528 - val_acc: 0.4119\n",
            "Epoch 15/50\n",
            "11794/11794 [==============================] - 1s 63us/sample - loss: 1.4485 - acc: 0.4200 - val_loss: 1.4460 - val_acc: 0.4188\n",
            "Epoch 16/50\n",
            "11794/11794 [==============================] - 1s 65us/sample - loss: 1.4416 - acc: 0.4238 - val_loss: 1.4423 - val_acc: 0.4279\n",
            "Epoch 17/50\n",
            "11794/11794 [==============================] - 1s 61us/sample - loss: 1.4350 - acc: 0.4295 - val_loss: 1.4403 - val_acc: 0.4249\n",
            "Epoch 18/50\n",
            "11794/11794 [==============================] - 1s 63us/sample - loss: 1.4300 - acc: 0.4279 - val_loss: 1.4350 - val_acc: 0.4188\n",
            "Epoch 19/50\n",
            "11794/11794 [==============================] - 1s 64us/sample - loss: 1.4248 - acc: 0.4306 - val_loss: 1.4261 - val_acc: 0.4211\n",
            "Epoch 20/50\n",
            "11794/11794 [==============================] - 1s 63us/sample - loss: 1.4196 - acc: 0.4324 - val_loss: 1.4314 - val_acc: 0.4294\n",
            "Epoch 21/50\n",
            "11794/11794 [==============================] - 1s 64us/sample - loss: 1.4148 - acc: 0.4323 - val_loss: 1.4243 - val_acc: 0.4310\n",
            "Epoch 22/50\n",
            "11794/11794 [==============================] - 1s 63us/sample - loss: 1.4103 - acc: 0.4365 - val_loss: 1.4167 - val_acc: 0.4279\n",
            "Epoch 23/50\n",
            "11794/11794 [==============================] - 1s 63us/sample - loss: 1.4064 - acc: 0.4362 - val_loss: 1.4135 - val_acc: 0.4294\n",
            "Epoch 24/50\n",
            "11794/11794 [==============================] - 1s 64us/sample - loss: 1.4024 - acc: 0.4384 - val_loss: 1.4150 - val_acc: 0.4172\n",
            "Epoch 25/50\n",
            "11794/11794 [==============================] - 1s 64us/sample - loss: 1.3993 - acc: 0.4356 - val_loss: 1.4103 - val_acc: 0.4256\n",
            "Epoch 26/50\n",
            "11794/11794 [==============================] - 1s 63us/sample - loss: 1.3957 - acc: 0.4385 - val_loss: 1.4067 - val_acc: 0.4340\n",
            "Epoch 27/50\n",
            "11794/11794 [==============================] - 1s 67us/sample - loss: 1.3929 - acc: 0.4409 - val_loss: 1.4096 - val_acc: 0.4310\n",
            "Epoch 28/50\n",
            "11794/11794 [==============================] - 1s 64us/sample - loss: 1.3898 - acc: 0.4378 - val_loss: 1.4049 - val_acc: 0.4287\n",
            "Epoch 29/50\n",
            "11794/11794 [==============================] - 1s 67us/sample - loss: 1.3871 - acc: 0.4426 - val_loss: 1.4052 - val_acc: 0.4218\n",
            "Epoch 30/50\n",
            "11794/11794 [==============================] - 1s 66us/sample - loss: 1.3844 - acc: 0.4415 - val_loss: 1.3997 - val_acc: 0.4355\n",
            "Epoch 31/50\n",
            "11794/11794 [==============================] - 1s 68us/sample - loss: 1.3823 - acc: 0.4442 - val_loss: 1.3958 - val_acc: 0.4294\n",
            "Epoch 32/50\n",
            "11794/11794 [==============================] - 1s 66us/sample - loss: 1.3791 - acc: 0.4438 - val_loss: 1.3967 - val_acc: 0.4333\n",
            "Epoch 33/50\n",
            "11794/11794 [==============================] - 1s 67us/sample - loss: 1.3770 - acc: 0.4407 - val_loss: 1.3936 - val_acc: 0.4447\n",
            "Epoch 34/50\n",
            "11794/11794 [==============================] - 1s 62us/sample - loss: 1.3744 - acc: 0.4420 - val_loss: 1.3962 - val_acc: 0.4287\n",
            "Epoch 35/50\n",
            "11794/11794 [==============================] - 1s 60us/sample - loss: 1.3729 - acc: 0.4462 - val_loss: 1.3922 - val_acc: 0.4310\n",
            "Epoch 36/50\n",
            "11794/11794 [==============================] - 1s 61us/sample - loss: 1.3706 - acc: 0.4470 - val_loss: 1.3897 - val_acc: 0.4363\n",
            "Epoch 37/50\n",
            "11794/11794 [==============================] - 1s 65us/sample - loss: 1.3692 - acc: 0.4469 - val_loss: 1.3889 - val_acc: 0.4310\n",
            "Epoch 38/50\n",
            "11794/11794 [==============================] - 1s 62us/sample - loss: 1.3663 - acc: 0.4470 - val_loss: 1.3815 - val_acc: 0.4264\n",
            "Epoch 39/50\n",
            "11794/11794 [==============================] - 1s 61us/sample - loss: 1.3648 - acc: 0.4469 - val_loss: 1.3862 - val_acc: 0.4371\n",
            "Epoch 40/50\n",
            "11794/11794 [==============================] - 1s 62us/sample - loss: 1.3635 - acc: 0.4494 - val_loss: 1.3863 - val_acc: 0.4401\n",
            "Epoch 41/50\n",
            "11794/11794 [==============================] - 1s 59us/sample - loss: 1.3610 - acc: 0.4461 - val_loss: 1.3793 - val_acc: 0.4439\n",
            "Epoch 42/50\n",
            "11794/11794 [==============================] - 1s 61us/sample - loss: 1.3581 - acc: 0.4522 - val_loss: 1.3926 - val_acc: 0.4256\n",
            "Epoch 43/50\n",
            "11794/11794 [==============================] - 1s 62us/sample - loss: 1.3586 - acc: 0.4509 - val_loss: 1.3786 - val_acc: 0.4401\n",
            "Epoch 44/50\n",
            "11794/11794 [==============================] - 1s 61us/sample - loss: 1.3563 - acc: 0.4513 - val_loss: 1.3774 - val_acc: 0.4226\n",
            "Epoch 45/50\n",
            "11794/11794 [==============================] - 1s 62us/sample - loss: 1.3542 - acc: 0.4517 - val_loss: 1.3772 - val_acc: 0.4325\n",
            "Epoch 46/50\n",
            "11794/11794 [==============================] - 1s 62us/sample - loss: 1.3534 - acc: 0.4535 - val_loss: 1.3742 - val_acc: 0.4409\n",
            "Epoch 47/50\n",
            "11794/11794 [==============================] - 1s 63us/sample - loss: 1.3516 - acc: 0.4552 - val_loss: 1.3716 - val_acc: 0.4355\n",
            "Epoch 48/50\n",
            "11794/11794 [==============================] - 1s 61us/sample - loss: 1.3503 - acc: 0.4537 - val_loss: 1.3688 - val_acc: 0.4294\n",
            "Epoch 49/50\n",
            "11794/11794 [==============================] - 1s 60us/sample - loss: 1.3485 - acc: 0.4553 - val_loss: 1.3672 - val_acc: 0.4378\n",
            "Epoch 50/50\n",
            "11794/11794 [==============================] - 1s 62us/sample - loss: 1.3472 - acc: 0.4565 - val_loss: 1.3693 - val_acc: 0.4394\n"
          ],
          "name": "stdout"
        },
        {
          "output_type": "execute_result",
          "data": {
            "text/plain": [
              "<tensorflow.python.keras.callbacks.History at 0x7f872f3a7e10>"
            ]
          },
          "metadata": {
            "tags": []
          },
          "execution_count": 17
        }
      ]
    },
    {
      "cell_type": "code",
      "metadata": {
        "id": "C1lPF1hBDlKx",
        "colab_type": "code",
        "outputId": "f8f1b6a4-ef00-4c64-dd9e-676484d5cd7e",
        "colab": {
          "base_uri": "https://localhost:8080/",
          "height": 51
        }
      },
      "source": [
        "test_loss, test_accuracy = model_MLP.evaluate(x=X_test_std, y=y_test)\n",
        "print(test_loss, test_accuracy)\n"
      ],
      "execution_count": 18,
      "outputs": [
        {
          "output_type": "stream",
          "text": [
            "3277/3277 [==============================] - 0s 22us/sample - loss: 1.3556 - acc: 0.4596\n",
            "1.3555602621370093 0.45956668\n"
          ],
          "name": "stdout"
        }
      ]
    },
    {
      "cell_type": "markdown",
      "metadata": {
        "id": "WJ0ozmQhDF69",
        "colab_type": "text"
      },
      "source": [
        "## ACCURACY=45%"
      ]
    },
    {
      "cell_type": "code",
      "metadata": {
        "id": "7CBbEDqBDICg",
        "colab_type": "code",
        "colab": {}
      },
      "source": [
        ""
      ],
      "execution_count": 0,
      "outputs": []
    }
  ]
}